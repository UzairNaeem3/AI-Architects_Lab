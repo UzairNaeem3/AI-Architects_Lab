{
 "cells": [
  {
   "cell_type": "markdown",
   "id": "38fca610-8d73-4d6a-8d10-67b19acdf411",
   "metadata": {},
   "source": [
    "## Multi Head Attention"
   ]
  },
  {
   "cell_type": "markdown",
   "id": "2f0fbb9f-cb30-473b-b3bd-c2a760450411",
   "metadata": {},
   "source": [
    "Multi-Head Attention model works by applying multiple attention mechanisms (or \"heads\") in parallel to the input sequence. Each head learns to focus on different parts of the input independently, and their outputs are concatenated and passed through a linear layer to produce the final result."
   ]
  },
  {
   "cell_type": "code",
   "execution_count": 1,
   "id": "a9de830c-3805-481a-8349-a780c77cb9a3",
   "metadata": {
    "editable": true,
    "slideshow": {
     "slide_type": ""
    },
    "tags": []
   },
   "outputs": [],
   "source": [
    "import numpy as np\n",
    "import torch\n",
    "import torch.nn as nn\n",
    "import torch.nn.functional as F\n",
    "import math\n",
    "import matplotlib.pyplot as plt"
   ]
  },
  {
   "cell_type": "code",
   "execution_count": 2,
   "id": "6d87c1a4-60ed-407d-8377-38901e7728db",
   "metadata": {},
   "outputs": [],
   "source": [
    "# Example Configuration\n",
    "batch_size = 32\n",
    "seq_len = 10\n",
    "d_model = 512\n",
    "num_heads = 8\n",
    "d_head = d_model // num_heads  # d_head = 512 / 8 = 64"
   ]
  },
  {
   "cell_type": "markdown",
   "id": "3b7ecc86-c6b8-48a5-8b4c-7e9bbf21e721",
   "metadata": {},
   "source": [
    "#### 1. Input\n",
    "The input to the attention layer is a matrix of shape **(batch_size, seq_len, d_model)**, where:\n",
    "\n",
    "- **batch_size**: Number of samples in the batch.\n",
    "- **seq_len**: Length of the input sequence.\n",
    "- **d_model**: Dimensionality of the input embeddings.\n",
    "\n",
    "For example:\n",
    "- Input shape: **(32, 10, 512)** (batch size = 32, sequence length = 10, and model dimension = 512)."
   ]
  },
  {
   "cell_type": "code",
   "execution_count": 3,
   "id": "5fcfdd50-f8d5-47a2-a731-d98eacc4c8c6",
   "metadata": {},
   "outputs": [
    {
     "data": {
      "text/plain": [
       "torch.Size([32, 10, 512])"
      ]
     },
     "execution_count": 3,
     "metadata": {},
     "output_type": "execute_result"
    }
   ],
   "source": [
    "# Step 1: Input (random tensor simulating the embeddings)\n",
    "input_tensor = torch.randn(batch_size, seq_len, d_model)  # Shape: (batch_size, seq_len, d_model)\n",
    "input_tensor.shape"
   ]
  },
  {
   "cell_type": "markdown",
   "id": "3de0cfd1-8579-4952-a01a-1b0c9aa776f0",
   "metadata": {},
   "source": [
    "#### 2. Linear Projections for Q, K, and V\n",
    "The input is projected into three matrices: **Query (Q)**, **Key (K)**, and **Value (V)**, each of dimension **(batch_size, seq_len, d_model)**.\n",
    "\n",
    "Each of Q, K, and V are obtained by multiplying the input matrix by learnable weight matrices, so the dimensions of each are still **(batch_size, seq_len, d_model)**.\n",
    "\n",
    "For example:\n",
    "- Q, K, V shapes: **(32, 10, 512)**."
   ]
  },
  {
   "cell_type": "code",
   "execution_count": 4,
   "id": "c7de9f0f-28f2-4b25-a8be-0e39609752c2",
   "metadata": {},
   "outputs": [
    {
     "data": {
      "text/plain": [
       "(torch.Size([32, 10, 512]),\n",
       " torch.Size([32, 10, 512]),\n",
       " torch.Size([32, 10, 512]))"
      ]
     },
     "execution_count": 4,
     "metadata": {},
     "output_type": "execute_result"
    }
   ],
   "source": [
    "# Step 2: Linear Projections for Q, K, and V\n",
    "# Create 3 separate weight matrices for Query, Key, and Value, which will be learned.\n",
    "# Each of these weight matrices will have shape (d_model, d_model) for Q, K, V.\n",
    "\n",
    "W_q = nn.Linear(d_model, d_model)\n",
    "W_k = nn.Linear(d_model, d_model)\n",
    "W_v = nn.Linear(d_model, d_model)\n",
    "\n",
    "Q = W_q(input_tensor)  # Shape: (batch_size, seq_len, d_model)\n",
    "K = W_k(input_tensor)  # Shape: (batch_size, seq_len, d_model)\n",
    "V = W_v(input_tensor)  # Shape: (batch_size, seq_len, d_model)\n",
    "\n",
    "Q.shape, K.shape, V.shape"
   ]
  },
  {
   "cell_type": "markdown",
   "id": "0315a46e-35d9-48fc-8368-5debd22aaaa9",
   "metadata": {},
   "source": [
    "#### 3. Splitting into Heads\n",
    "To apply multi-head attention, we split the model dimension **d_model** into **num_heads** heads. Suppose we want **num_heads = 8** and **d_model = 512**, so each head will have a dimension of **d_head = d_model / num_heads = 512 / 8 = 64**.\n",
    "\n",
    "The matrices Q, K, and V are split into **num_heads** parts, resulting in each head having a dimension of **(batch_size, seq_len, d_head)**.\n",
    "\n",
    "For example:\n",
    "- Q, K, V shapes after splitting: **(32, 10, 64)** for each head.\n",
    "\n",
    "Now, we have **num_heads = 8** heads, so each head has a shape of **(32, 10, 64)**. For 8 heads, this becomes a shape of **(batch_size, num_heads, seq_len, d_head)**.\n",
    "\n",
    "For example:\n",
    "- Q, K, V for 8 heads: **(32, 8, 10, 64)**."
   ]
  },
  {
   "cell_type": "code",
   "execution_count": 5,
   "id": "0f7422dd-64a5-43b6-82f9-2f6d06254408",
   "metadata": {},
   "outputs": [
    {
     "data": {
      "text/plain": [
       "(torch.Size([32, 8, 10, 64]),\n",
       " torch.Size([32, 8, 10, 64]),\n",
       " torch.Size([32, 8, 10, 64]))"
      ]
     },
     "execution_count": 5,
     "metadata": {},
     "output_type": "execute_result"
    }
   ],
   "source": [
    "# Step 3: Splitting into Heads (num_heads = 8, d_head = 64)\n",
    "# Reshape Q, K, and V to split them into heads, which will have shape (batch_size, num_heads, seq_len, d_head).\n",
    "\n",
    "Q = Q.reshape(batch_size, seq_len, num_heads, d_head).permute(0, 2, 1, 3)  # Shape: (batch_size, num_heads, seq_len, d_head)\n",
    "K = K.reshape(batch_size, seq_len, num_heads, d_head).permute(0, 2, 1, 3)  # Shape: (batch_size, num_heads, seq_len, d_head)\n",
    "V = V.reshape(batch_size, seq_len, num_heads, d_head).permute(0, 2, 1, 3)  # Shape: (batch_size, num_heads, seq_len, d_head)\n",
    "\n",
    "Q.shape, K.shape, V.shape"
   ]
  },
  {
   "cell_type": "markdown",
   "id": "8596d643-d4bf-4bb7-bdc1-c1c663cebeba",
   "metadata": {},
   "source": [
    "#### 4. Scaled Dot-Product Attention\n",
    "Each head computes the scaled dot-product attention between the corresponding Query (Q) and Key (K) matrices. The result of this attention is a matrix of shape **(batch_size, num_heads, seq_len, seq_len)**.\n",
    "\n",
    "- The **Q** matrix has the shape **(batch_size, num_heads, seq_len, d_head)**, and the **K** matrix has the shape **(batch_size, num_heads, seq_len, d_head)**.\n",
    "- When performing the attention, we compute the dot product between each **Query** and **Key** for every position in the sequence. This results in a matrix of size **(batch_size, num_heads, seq_len, seq_len)**, where each **seq_len** in the rows corresponds to the attention of a query position, and the **seq_len** in the columns corresponds to the attention to all key positions.\n",
    "\n",
    "Thus, the output shape is **(batch_size, num_heads, seq_len, seq_len)**.\n",
    "\n",
    "For example:\n",
    "- Attention output for each head: **(32, 8, 10, 10)**."
   ]
  },
  {
   "cell_type": "code",
   "execution_count": 6,
   "id": "e2cffb48-0a80-4d52-88f1-40c1528465a5",
   "metadata": {},
   "outputs": [
    {
     "data": {
      "text/plain": [
       "torch.Size([32, 8, 10, 64])"
      ]
     },
     "execution_count": 6,
     "metadata": {},
     "output_type": "execute_result"
    }
   ],
   "source": [
    "# Step 4: Scaled Dot-Product Attention\n",
    "# Compute attention between Q and K and apply it to V.\n",
    "\n",
    "# Q and K have shape: (batch_size, num_heads, seq_len, d_head)\n",
    "# To compute attention, we take the dot product of Q and K transposed, then scale it by sqrt(d_head)\n",
    "attn_scores = torch.matmul(Q, K.transpose(-2, -1)) / d_head**0.5  # Shape: (batch_size, num_heads, seq_len, seq_len)\n",
    "\n",
    "# Apply softmax to get the attention weights (sum to 1 along the last dimension)\n",
    "attn_weights = F.softmax(attn_scores, dim=-1)  # Shape: (batch_size, num_heads, seq_len, seq_len)\n",
    "\n",
    "# Apply the attention weights to the Value matrix (V)\n",
    "attn_output = torch.matmul(attn_weights, V)  # Shape: (batch_size, num_heads, seq_len, d_head)\n",
    "\n",
    "attn_output.shape"
   ]
  },
  {
   "cell_type": "markdown",
   "id": "e71bcc9e-c5f3-48ad-a59b-dba9f8950446",
   "metadata": {},
   "source": [
    "#### 5. Concatenation of Heads\n",
    "After performing attention on each head, the results of all heads are concatenated. The resulting shape is **(batch_size, seq_len, d_model)**.\n",
    "\n",
    "For example, for 8 heads with **d_head = 64** each:\n",
    "- Concatenated output shape: **(32, 10, 512)**."
   ]
  },
  {
   "cell_type": "code",
   "execution_count": 7,
   "id": "a568b910-dc99-4162-b91d-1beeb5eef864",
   "metadata": {},
   "outputs": [
    {
     "data": {
      "text/plain": [
       "torch.Size([32, 10, 512])"
      ]
     },
     "execution_count": 7,
     "metadata": {},
     "output_type": "execute_result"
    }
   ],
   "source": [
    "# Step 5: Concatenate Heads\n",
    "# Concatenate the attention outputs from all heads along the last dimension.\n",
    "attn_output = attn_output.permute(0, 2, 1, 3).reshape(batch_size, seq_len, d_model)  # Shape: (batch_size, seq_len, d_model)\n",
    "\n",
    "attn_output.shape"
   ]
  },
  {
   "cell_type": "markdown",
   "id": "e9723208-da8f-476e-a50c-46ff691719ec",
   "metadata": {},
   "source": [
    "#### 6. Final Linear Projection\n",
    "The concatenated output is passed through a final linear layer to project it back into a **d_model**-dimensional space, which gives the final output shape as **(batch_size, seq_len, d_model)**.\n",
    "\n",
    "For example:\n",
    "- Final output shape: **(32, 10, 512)**."
   ]
  },
  {
   "cell_type": "code",
   "execution_count": 8,
   "id": "4b5d0d6e-fb93-48ed-b527-fe58a425d932",
   "metadata": {},
   "outputs": [
    {
     "data": {
      "text/plain": [
       "torch.Size([32, 10, 512])"
      ]
     },
     "execution_count": 8,
     "metadata": {},
     "output_type": "execute_result"
    }
   ],
   "source": [
    "# Step 6: Final Linear Projection\n",
    "# After concatenation, project the output back to the d_model dimension using a final linear layer\n",
    "\n",
    "W_o = nn.Linear(d_model, d_model)\n",
    "output = W_o(attn_output)  # Shape: (batch_size, seq_len, d_model)\n",
    "\n",
    "output.shape"
   ]
  },
  {
   "cell_type": "markdown",
   "id": "d9c6dc29-cd81-46fa-b816-57132142bb7c",
   "metadata": {},
   "source": [
    "#### Recap of Dimensions:\n",
    "- **Input**: **(32, 10, 512)**\n",
    "- **Q, K, V**: **(32, 10, 512)** (before splitting)\n",
    "- **Q, K, V per head**: **(32, 8, 10, 64)** (after splitting into 8 heads)\n",
    "- **Attention output**: **(32, 8, 10, 10)**\n",
    "- **Concatenated output**: **(32, 10, 512)**\n",
    "- **Final output**: **(32, 10, 512)**"
   ]
  },
  {
   "cell_type": "markdown",
   "id": "c525abc0-f0f9-4ea4-bd28-1e26d508c2d9",
   "metadata": {},
   "source": [
    "### Class"
   ]
  },
  {
   "cell_type": "code",
   "execution_count": 9,
   "id": "eae170d4-9571-45ab-a9b3-3211242592ee",
   "metadata": {
    "editable": true,
    "slideshow": {
     "slide_type": ""
    },
    "tags": []
   },
   "outputs": [],
   "source": [
    "class MultiHeadAttention(nn.Module):\n",
    "    def __init__(self, embed_dim=512, num_heads=8, dropout=0.1):\n",
    "        super().__init__()\n",
    "        self.embed_dim = embed_dim\n",
    "        self.num_heads = num_heads\n",
    "        self.head_dim = embed_dim // num_heads\n",
    "        \n",
    "        assert self.head_dim * num_heads == embed_dim, \"embed_dim must be divisible by num_heads\"\n",
    "        \n",
    "        # Linear projections for Q, K, V\n",
    "        self.q_linear = nn.Linear(embed_dim, embed_dim)\n",
    "        self.k_linear = nn.Linear(embed_dim, embed_dim)\n",
    "        self.v_linear = nn.Linear(embed_dim, embed_dim)\n",
    "        \n",
    "        # Final output projection\n",
    "        self.out_proj = nn.Linear(embed_dim, embed_dim)\n",
    "        self.dropout = nn.Dropout(dropout)\n",
    "        \n",
    "    def forward(self, query, key, value, mask=None, return_attention=False):\n",
    "        \"\"\"\n",
    "        Args:\n",
    "            query: Query tensor [batch_size, query_len, embed_dim]\n",
    "            key: Key tensor [batch_size, key_len, embed_dim]\n",
    "            value: Value tensor [batch_size, value_len, embed_dim]\n",
    "            mask: Optional mask tensor for masked attention\n",
    "            return_attention: Whether to return attention weights\n",
    "        Returns:\n",
    "            output: Attention output [batch_size, query_len, embed_dim]\n",
    "            attention_weights: (Optional) Attention weights\n",
    "        \"\"\"\n",
    "        batch_size = query.size(0) \n",
    "        query_len = query.size(1)\n",
    "        key_len = key.size(1)\n",
    "        value_len = value.size(1)\n",
    "        \n",
    "        # Compute Q, K, V\n",
    "        q = self.q_linear(query)  # [batch_size, query_len, embed_dim]\n",
    "        k = self.k_linear(key)    # [batch_size, key_len, embed_dim]\n",
    "        v = self.v_linear(value)  # [batch_size, value_len, embed_dim]\n",
    "        \n",
    "        # Reshape for multi-head attention\n",
    "        # Split embed_dim into num_heads × head_dim\n",
    "        q = q.view(batch_size, query_len, self.num_heads, self.head_dim).transpose(1, 2) # q shape: [batch_size, num_heads, query_len, head_dim]\n",
    "        k = k.view(batch_size, key_len, self.num_heads, self.head_dim).transpose(1, 2) # k shape: [batch_size, num_heads, key_len, head_dim]\n",
    "        v = v.view(batch_size, value_len, self.num_heads, self.head_dim).transpose(1, 2) # v shape: [batch_size, num_heads, value_len, head_dim]\n",
    "        \n",
    "        # Calculate attention scores\n",
    "        attn_scores = torch.matmul(q, k.transpose(-2, -1))  # [batch_size, num_heads, query_len, key_len]\n",
    "        \n",
    "        # Scale attention scores\n",
    "        attn_scores = attn_scores / math.sqrt(self.head_dim)\n",
    "        \n",
    "        # Apply mask if provided\n",
    "        # mask shape: [batch_size, seq_len] or [batch_size, 1, seq_len] or [batch_size, seq_len, seq_len]\n",
    "        if mask is not None:\n",
    "            # Expand mask to match the attention scores dimensions\n",
    "            if mask.dim() == 2:\n",
    "                # [batch_size, seq_len] -> [batch_size, 1, 1, seq_len]\n",
    "                mask = mask.unsqueeze(1).unsqueeze(2)\n",
    "            elif mask.dim() == 3 and mask.size(1) == 1:\n",
    "                # [batch_size, 1, seq_len] -> [batch_size, 1, 1, seq_len]\n",
    "                mask = mask.unsqueeze(1)\n",
    "            elif mask.dim() == 3:\n",
    "                # [batch_size, seq_len, seq_len] -> [batch_size, 1, seq_len, seq_len]\n",
    "                mask = mask.unsqueeze(1)\n",
    "            \n",
    "            # Apply mask by setting masked positions to -inf before softmax\n",
    "            attn_scores = attn_scores.masked_fill(mask == 0, float('-inf')) # [batch_size, num_heads, seq_len, seq_len]\n",
    "        \n",
    "        # Apply softmax to get attention weights\n",
    "        attention_weights = F.softmax(attn_scores, dim=-1)  # [batch_size, num_heads, seq_len, seq_len]\n",
    "        attention_weights = self.dropout(attention_weights)\n",
    "        \n",
    "        # Apply attention weights to values\n",
    "        attn_output = torch.matmul(attention_weights, v)  # [batch_size, num_heads, seq_len, head_dim]\n",
    "        \n",
    "        # Reshape back to original dimension\n",
    "        attn_output = attn_output.transpose(1, 2).contiguous().view(batch_size, query_len, self.embed_dim)\n",
    "        # attn_output shape: [batch_size, seq_len, embed_dim]\n",
    "        \n",
    "        # Final linear projection\n",
    "        output = self.out_proj(attn_output)  # [batch_size, seq_len, embed_dim]\n",
    "        \n",
    "        if return_attention:\n",
    "            return output, attention_weights\n",
    "        return output"
   ]
  },
  {
   "cell_type": "markdown",
   "id": "b7237fd0-36dd-4d12-b818-d999b4cc4075",
   "metadata": {},
   "source": [
    "In `attention`, we use the `query` to **attend to** or **extract information from** the keys and values. Each position in the query is looking for relevant information across all positions in the key/value pairs. The output gives us one vector per query position.\n",
    "\n",
    "- **In self-attention**: `query_len` = `key_len` = `value_len`, so output shape matches input shape\n",
    "- **In cross-attention**: `output shape` matches the `query shape`, allowing the decoder to maintain its sequence length while incorporating information from the encoder\n",
    "\n",
    "### Attention Output Dimensions\n",
    "\n",
    "#### Self-Attention\n",
    "In self-attention, the same sequence serves as query, key, and value:\n",
    "- Input: `[batch_size, seq_len, embed_dim]`\n",
    "- Query, Key, Value all have shape: `[batch_size, seq_len, embed_dim]`\n",
    "- Attention scores: `[batch_size, num_heads, seq_len, seq_len]`\n",
    "- Attention output: `[batch_size, seq_len, embed_dim]`\n",
    "\n",
    "The output has the same sequence length as the input because each position attends to all positions in the same sequence.\n",
    "\n",
    "#### Cross-Attention\n",
    "In cross-attention, the query comes from one sequence while key and value come from another:\n",
    "- Decoder input (query): `[batch_size, decoder_len, embed_dim]`\n",
    "- Encoder output (key/value): `[batch_size, encoder_len, embed_dim]`\n",
    "- Attention scores: `[batch_size, num_heads, decoder_len, encoder_len]`\n",
    "- Attention output: `[batch_size, decoder_len, embed_dim]`\n",
    "\n",
    "The output maintains the decoder's sequence length because each position in the decoder is attending to the entire encoder sequence, producing one context vector per decoder position.\n",
    "\n",
    "This is why the reshape operation uses `query_len` in the final output dimension:\n",
    "```python\n",
    "attn_output = attn_output.transpose(1, 2).contiguous().view(batch_size, query_len, self.embed_dim)\n",
    "```"
   ]
  },
  {
   "cell_type": "code",
   "execution_count": 10,
   "id": "e9f766e1-97a3-4fa9-8eab-506c97269167",
   "metadata": {},
   "outputs": [],
   "source": [
    "batch_size = 2\n",
    "seq_len = 5\n",
    "embed_dim = 512\n",
    "num_heads = 8"
   ]
  },
  {
   "cell_type": "code",
   "execution_count": 11,
   "id": "7bfb8e3b-e078-4153-bedc-65a7137484ff",
   "metadata": {},
   "outputs": [],
   "source": [
    "mha = MultiHeadAttention(embed_dim=embed_dim, num_heads=num_heads)\n",
    "\n",
    "# Input tensor\n",
    "x = torch.randn(batch_size, seq_len, embed_dim)"
   ]
  },
  {
   "cell_type": "markdown",
   "id": "a4f1f9e7-2547-442a-8e39-94522ae27dc3",
   "metadata": {},
   "source": [
    "### Example 1: Using Padding Mask\n",
    "\n",
    "Used to prevent attention to padding tokens in batched variable-length sequences\n",
    "- **Dimensions**: [batch_size, seq_len] = [2, 5]\n",
    "- **Values**: 1 for real tokens, 0 for padding tokens"
   ]
  },
  {
   "cell_type": "code",
   "execution_count": 12,
   "id": "60814566-1c4b-4346-9897-d0fe81652f4d",
   "metadata": {},
   "outputs": [
    {
     "data": {
      "text/plain": [
       "tensor([[True, True, True, True, True],\n",
       "        [True, True, True, True, True]])"
      ]
     },
     "execution_count": 12,
     "metadata": {},
     "output_type": "execute_result"
    }
   ],
   "source": [
    "# padding mask (1 for tokens to keep, 0 for padding tokens to mask)\n",
    "padding_mask = torch.ones(batch_size, seq_len, dtype=torch.bool)\n",
    "padding_mask"
   ]
  },
  {
   "cell_type": "code",
   "execution_count": 13,
   "id": "0fc8e3ed-df8d-4729-8e78-69568dbf684b",
   "metadata": {},
   "outputs": [
    {
     "data": {
      "text/plain": [
       "tensor([[ True,  True,  True,  True, False],\n",
       "        [ True,  True,  True, False, False]])"
      ]
     },
     "execution_count": 13,
     "metadata": {},
     "output_type": "execute_result"
    }
   ],
   "source": [
    "# First sequence has 4 valid tokens, second has 3\n",
    "padding_mask[0, 4] = 0  # Mask last position in first sequence\n",
    "padding_mask[1, 3:] = 0  # Mask last two positions in second sequence\n",
    "\n",
    "padding_mask"
   ]
  },
  {
   "cell_type": "code",
   "execution_count": 14,
   "id": "93b67689-1159-4237-897a-c49293691ea7",
   "metadata": {},
   "outputs": [
    {
     "data": {
      "image/png": "[encoded data removed]",
      "text/plain": [
       "<Figure size 1000x300 with 2 Axes>"
      ]
     },
     "metadata": {},
     "output_type": "display_data"
    }
   ],
   "source": [
    "# Visualize the padding mask\n",
    "fig, ax = plt.subplots(1, 2, figsize=(10, 3))\n",
    "for i in range(batch_size):\n",
    "    mask_np = padding_mask[i].int().numpy().reshape(1, -1)\n",
    "    ax[i].imshow(mask_np, cmap='binary', interpolation='none')\n",
    "    ax[i].set_title(f\"Sequence {i+1} Padding Mask\")\n",
    "    ax[i].set_yticks([])\n",
    "    ax[i].set_xticks(range(seq_len))\n",
    "    ax[i].set_xlabel(\"Sequence Position\")\n",
    "plt.tight_layout()\n",
    "plt.show()"
   ]
  },
  {
   "cell_type": "code",
   "execution_count": 15,
   "id": "9239b758-d149-448d-8c80-9520d0df6b30",
   "metadata": {
    "scrolled": true
   },
   "outputs": [
    {
     "name": "stdout",
     "output_type": "stream",
     "text": [
      "\n",
      "Multi-Head Attention Forward Pass with Padding Mask:\n",
      "\n",
      " Attention Weights:\n",
      "tensor([[[[0.2253, 0.0000, 0.2029, 0.3116, 0.0000],\n",
      "          [0.4179, 0.3303, 0.2082, 0.1546, 0.0000],\n",
      "          [0.1550, 0.1694, 0.3800, 0.4067, 0.0000],\n",
      "          [0.2595, 0.3525, 0.2342, 0.2650, 0.0000],\n",
      "          [0.1966, 0.3148, 0.3148, 0.0000, 0.0000]],\n",
      "\n",
      "         [[0.3634, 0.2449, 0.0000, 0.2621, 0.0000],\n",
      "          [0.1392, 0.2354, 0.4256, 0.3110, 0.0000],\n",
      "          [0.1077, 0.2532, 0.3242, 0.4261, 0.0000],\n",
      "          [0.2272, 0.2848, 0.2171, 0.3820, 0.0000],\n",
      "          [0.3128, 0.2391, 0.3351, 0.2241, 0.0000]],\n",
      "\n",
      "         [[0.2726, 0.3249, 0.1808, 0.3328, 0.0000],\n",
      "          [0.3661, 0.2835, 0.0000, 0.1976, 0.0000],\n",
      "          [0.3123, 0.2694, 0.2974, 0.2319, 0.0000],\n",
      "          [0.2693, 0.4324, 0.0000, 0.2496, 0.0000],\n",
      "          [0.2461, 0.3177, 0.3187, 0.2286, 0.0000]],\n",
      "\n",
      "         [[0.3136, 0.2980, 0.0000, 0.2225, 0.0000],\n",
      "          [0.2642, 0.3127, 0.0000, 0.2188, 0.0000],\n",
      "          [0.0000, 0.4089, 0.2561, 0.2205, 0.0000],\n",
      "          [0.2583, 0.1846, 0.4054, 0.2628, 0.0000],\n",
      "          [0.3744, 0.2226, 0.2123, 0.3019, 0.0000]],\n",
      "\n",
      "         [[0.2255, 0.2857, 0.4066, 0.1933, 0.0000],\n",
      "          [0.1869, 0.0000, 0.1782, 0.1948, 0.0000],\n",
      "          [0.2116, 0.2856, 0.4120, 0.2019, 0.0000],\n",
      "          [0.2165, 0.4662, 0.2500, 0.1785, 0.0000],\n",
      "          [0.2911, 0.2416, 0.2648, 0.3136, 0.0000]],\n",
      "\n",
      "         [[0.3668, 0.1815, 0.2284, 0.3344, 0.0000],\n",
      "          [0.3051, 0.0000, 0.1493, 0.3036, 0.0000],\n",
      "          [0.0000, 0.2922, 0.2708, 0.2059, 0.0000],\n",
      "          [0.2052, 0.2675, 0.4302, 0.2083, 0.0000],\n",
      "          [0.3356, 0.0000, 0.0000, 0.2805, 0.0000]],\n",
      "\n",
      "         [[0.1345, 0.3733, 0.2973, 0.3059, 0.0000],\n",
      "          [0.3893, 0.2503, 0.1957, 0.2759, 0.0000],\n",
      "          [0.2365, 0.3963, 0.2530, 0.2253, 0.0000],\n",
      "          [0.1257, 0.1778, 0.0000, 0.3422, 0.0000],\n",
      "          [0.2206, 0.2106, 0.2743, 0.4056, 0.0000]],\n",
      "\n",
      "         [[0.2590, 0.4519, 0.2213, 0.1789, 0.0000],\n",
      "          [0.3543, 0.1791, 0.2001, 0.3777, 0.0000],\n",
      "          [0.4414, 0.1253, 0.3003, 0.0000, 0.0000],\n",
      "          [0.2590, 0.0000, 0.2658, 0.3127, 0.0000],\n",
      "          [0.3689, 0.0000, 0.1671, 0.0000, 0.0000]]],\n",
      "\n",
      "\n",
      "        [[[0.3211, 0.3704, 0.4196, 0.0000, 0.0000],\n",
      "          [0.3206, 0.5468, 0.2437, 0.0000, 0.0000],\n",
      "          [0.1840, 0.4457, 0.4814, 0.0000, 0.0000],\n",
      "          [0.4204, 0.3675, 0.3232, 0.0000, 0.0000],\n",
      "          [0.3088, 0.3264, 0.0000, 0.0000, 0.0000]],\n",
      "\n",
      "         [[0.3488, 0.2710, 0.4913, 0.0000, 0.0000],\n",
      "          [0.5476, 0.0000, 0.2472, 0.0000, 0.0000],\n",
      "          [0.3170, 0.4066, 0.3875, 0.0000, 0.0000],\n",
      "          [0.4533, 0.3200, 0.3378, 0.0000, 0.0000],\n",
      "          [0.0000, 0.4600, 0.4278, 0.0000, 0.0000]],\n",
      "\n",
      "         [[0.3046, 0.4518, 0.3547, 0.0000, 0.0000],\n",
      "          [0.4833, 0.1639, 0.4639, 0.0000, 0.0000],\n",
      "          [0.5001, 0.2379, 0.3731, 0.0000, 0.0000],\n",
      "          [0.2985, 0.4234, 0.3892, 0.0000, 0.0000],\n",
      "          [0.2380, 0.5901, 0.2830, 0.0000, 0.0000]],\n",
      "\n",
      "         [[0.5376, 0.1971, 0.0000, 0.0000, 0.0000],\n",
      "          [0.4686, 0.3478, 0.2947, 0.0000, 0.0000],\n",
      "          [0.3774, 0.4615, 0.2722, 0.0000, 0.0000],\n",
      "          [0.3484, 0.4047, 0.0000, 0.0000, 0.0000],\n",
      "          [0.4633, 0.2710, 0.3768, 0.0000, 0.0000]],\n",
      "\n",
      "         [[0.3923, 0.3850, 0.3339, 0.0000, 0.0000],\n",
      "          [0.2700, 0.3069, 0.5343, 0.0000, 0.0000],\n",
      "          [0.1969, 0.2141, 0.7000, 0.0000, 0.0000],\n",
      "          [0.3099, 0.3595, 0.0000, 0.0000, 0.0000],\n",
      "          [0.4499, 0.3282, 0.3330, 0.0000, 0.0000]],\n",
      "\n",
      "         [[0.3697, 0.4262, 0.3152, 0.0000, 0.0000],\n",
      "          [0.4466, 0.2957, 0.3688, 0.0000, 0.0000],\n",
      "          [0.4712, 0.2719, 0.3680, 0.0000, 0.0000],\n",
      "          [0.4605, 0.2903, 0.0000, 0.0000, 0.0000],\n",
      "          [0.3695, 0.4604, 0.2812, 0.0000, 0.0000]],\n",
      "\n",
      "         [[0.4184, 0.4362, 0.2566, 0.0000, 0.0000],\n",
      "          [0.4097, 0.3127, 0.3887, 0.0000, 0.0000],\n",
      "          [0.4545, 0.4695, 0.1871, 0.0000, 0.0000],\n",
      "          [0.3543, 0.3059, 0.4509, 0.0000, 0.0000],\n",
      "          [0.3546, 0.2465, 0.0000, 0.0000, 0.0000]],\n",
      "\n",
      "         [[0.5447, 0.2147, 0.3517, 0.0000, 0.0000],\n",
      "          [0.4281, 0.3665, 0.3166, 0.0000, 0.0000],\n",
      "          [0.5249, 0.2894, 0.2968, 0.0000, 0.0000],\n",
      "          [0.3863, 0.3933, 0.3315, 0.0000, 0.0000],\n",
      "          [0.3244, 0.3254, 0.4613, 0.0000, 0.0000]]]], grad_fn=<MulBackward0>)\n",
      "\n",
      " Attention Output:\n",
      "tensor([[[ 2.7358e-01,  9.6907e-02,  7.2229e-03,  ..., -1.6241e-01,\n",
      "          -6.2688e-04,  1.5716e-02],\n",
      "         [ 2.3615e-01,  5.1981e-02, -1.7701e-02,  ...,  5.9111e-03,\n",
      "          -2.0251e-01,  7.2319e-02],\n",
      "         [ 4.1815e-01,  2.3461e-01,  1.5583e-01,  ...,  9.4359e-02,\n",
      "          -1.3067e-01,  4.8106e-02],\n",
      "         [ 3.1098e-01,  1.5142e-01,  1.9367e-01,  ...,  9.7763e-02,\n",
      "          -8.9291e-03, -3.3051e-02],\n",
      "         [ 2.4304e-01,  1.1958e-01,  2.4096e-01,  ..., -7.3826e-02,\n",
      "          -2.4642e-01, -1.5578e-02]],\n",
      "\n",
      "        [[ 2.8907e-01,  1.6684e-01, -1.4094e-01,  ...,  4.8185e-01,\n",
      "           6.4491e-03,  3.4603e-01],\n",
      "         [ 1.7432e-01,  4.9836e-02, -5.0630e-02,  ...,  3.2281e-01,\n",
      "          -1.6637e-01,  2.0337e-01],\n",
      "         [ 1.7035e-01, -5.3806e-02, -1.5448e-01,  ...,  5.3678e-01,\n",
      "          -9.9646e-02,  1.5455e-01],\n",
      "         [ 2.8285e-01,  1.7918e-01, -1.7088e-01,  ...,  3.1628e-01,\n",
      "          -3.8874e-02,  2.6547e-01],\n",
      "         [ 1.7977e-01, -1.7930e-04, -1.8809e-02,  ...,  3.8212e-01,\n",
      "           6.2777e-03,  2.6480e-01]]], grad_fn=<ViewBackward0>)\n"
     ]
    }
   ],
   "source": [
    "# Forward pass with padding mask\n",
    "print(\"\\nMulti-Head Attention Forward Pass with Padding Mask:\")\n",
    "output1, attn_weights1 = mha(x, x, x, mask=padding_mask, return_attention=True)\n",
    "\n",
    "print(\"\\n Attention Weights:\")\n",
    "print(attn_weights1)\n",
    "\n",
    "print(\"\\n Attention Output:\")\n",
    "print(output1)"
   ]
  },
  {
   "cell_type": "markdown",
   "id": "00028abd-4726-4efb-b857-115da398313d",
   "metadata": {},
   "source": [
    "### Example 2: Using Causal Mask\n",
    "\n",
    "Used in decoder self-attention to prevent attending to future tokens\n",
    "- **Dimensions**: 1, seq_len, seq_len] = [1, 5, 5]\n",
    "- **Values**: Lower triangular matrix of 1s (tokens can only attend to previous positions)"
   ]
  },
  {
   "cell_type": "code",
   "execution_count": 16,
   "id": "13a3259e-b871-4753-8ff7-340e02526961",
   "metadata": {},
   "outputs": [
    {
     "name": "stdout",
     "output_type": "stream",
     "text": [
      "torch.Size([1, 5, 5]) \n",
      "\n"
     ]
    },
    {
     "data": {
      "text/plain": [
       "tensor([[[1., 0., 0., 0., 0.],\n",
       "         [1., 1., 0., 0., 0.],\n",
       "         [1., 1., 1., 0., 0.],\n",
       "         [1., 1., 1., 1., 0.],\n",
       "         [1., 1., 1., 1., 1.]]])"
      ]
     },
     "execution_count": 16,
     "metadata": {},
     "output_type": "execute_result"
    }
   ],
   "source": [
    "# causal mask (for autoregressive/decoder attention)\n",
    "causal_mask = torch.tril(torch.ones(seq_len, seq_len)).unsqueeze(0)\n",
    "print(causal_mask.shape, '\\n')\n",
    "\n",
    "causal_mask"
   ]
  },
  {
   "cell_type": "code",
   "execution_count": 17,
   "id": "b20028e9-b548-4a5e-ada0-83f27961f822",
   "metadata": {},
   "outputs": [
    {
     "data": {
      "image/png": "[encoded data removed]",
      "text/plain": [
       "<Figure size 500x400 with 2 Axes>"
      ]
     },
     "metadata": {},
     "output_type": "display_data"
    }
   ],
   "source": [
    "# Visualize the causal mask\n",
    "plt.figure(figsize=(5, 4))\n",
    "plt.imshow(causal_mask[0].numpy(), cmap='binary')\n",
    "plt.title(\"Causal/Autoregressive Mask\")\n",
    "plt.xlabel(\"Key Position\")\n",
    "plt.ylabel(\"Query Position\")\n",
    "plt.colorbar(label=\"Mask Value\")\n",
    "plt.tight_layout()\n",
    "plt.show()"
   ]
  },
  {
   "cell_type": "code",
   "execution_count": 18,
   "id": "475eb0c6-4df6-4ffa-b334-42dec79ebc06",
   "metadata": {
    "scrolled": true
   },
   "outputs": [
    {
     "name": "stdout",
     "output_type": "stream",
     "text": [
      "\n",
      "Multi-Head Attention Forward Pass with Causal Mask:\n",
      "\n",
      " Attention Weights:\n",
      "tensor([[[[1.1111, 0.0000, 0.0000, 0.0000, 0.0000],\n",
      "          [0.6206, 0.4905, 0.0000, 0.0000, 0.0000],\n",
      "          [0.2444, 0.2672, 0.5994, 0.0000, 0.0000],\n",
      "          [0.2595, 0.3525, 0.2342, 0.2650, 0.0000],\n",
      "          [0.1715, 0.0000, 0.2747, 0.2486, 0.1416]],\n",
      "\n",
      "         [[1.1111, 0.0000, 0.0000, 0.0000, 0.0000],\n",
      "          [0.4129, 0.6982, 0.0000, 0.0000, 0.0000],\n",
      "          [0.1747, 0.0000, 0.5258, 0.0000, 0.0000],\n",
      "          [0.2272, 0.2848, 0.2171, 0.0000, 0.0000],\n",
      "          [0.0000, 0.1712, 0.2400, 0.0000, 0.3155]],\n",
      "\n",
      "         [[1.1111, 0.0000, 0.0000, 0.0000, 0.0000],\n",
      "          [0.6261, 0.4850, 0.0000, 0.0000, 0.0000],\n",
      "          [0.3947, 0.3405, 0.3759, 0.0000, 0.0000],\n",
      "          [0.2693, 0.4324, 0.1599, 0.2496, 0.0000],\n",
      "          [0.2184, 0.2819, 0.2829, 0.2029, 0.1250]],\n",
      "\n",
      "         [[1.1111, 0.0000, 0.0000, 0.0000, 0.0000],\n",
      "          [0.0000, 0.6023, 0.0000, 0.0000, 0.0000],\n",
      "          [0.2815, 0.5102, 0.0000, 0.0000, 0.0000],\n",
      "          [0.2583, 0.1846, 0.4054, 0.2628, 0.0000],\n",
      "          [0.3152, 0.1874, 0.1787, 0.2542, 0.1756]],\n",
      "\n",
      "         [[1.1111, 0.0000, 0.0000, 0.0000, 0.0000],\n",
      "          [0.0000, 0.8297, 0.0000, 0.0000, 0.0000],\n",
      "          [0.2586, 0.3490, 0.5035, 0.0000, 0.0000],\n",
      "          [0.2165, 0.4662, 0.2500, 0.1785, 0.0000],\n",
      "          [0.2396, 0.1989, 0.2179, 0.2581, 0.1966]],\n",
      "\n",
      "         [[0.0000, 0.0000, 0.0000, 0.0000, 0.0000],\n",
      "          [0.5151, 0.5960, 0.0000, 0.0000, 0.0000],\n",
      "          [0.0000, 0.3587, 0.3324, 0.0000, 0.0000],\n",
      "          [0.2052, 0.2675, 0.4302, 0.2083, 0.0000],\n",
      "          [0.2470, 0.0000, 0.1872, 0.2065, 0.0000]],\n",
      "\n",
      "         [[1.1111, 0.0000, 0.0000, 0.0000, 0.0000],\n",
      "          [0.0000, 0.4348, 0.0000, 0.0000, 0.0000],\n",
      "          [0.2967, 0.4971, 0.3173, 0.0000, 0.0000],\n",
      "          [0.1257, 0.1778, 0.0000, 0.0000, 0.0000],\n",
      "          [0.1910, 0.1824, 0.2375, 0.3513, 0.1490]],\n",
      "\n",
      "         [[1.1111, 0.0000, 0.0000, 0.0000, 0.0000],\n",
      "          [0.7380, 0.3731, 0.0000, 0.0000, 0.0000],\n",
      "          [0.5657, 0.1606, 0.3848, 0.0000, 0.0000],\n",
      "          [0.2590, 0.2736, 0.2658, 0.3127, 0.0000],\n",
      "          [0.2567, 0.0000, 0.1163, 0.2440, 0.3378]]],\n",
      "\n",
      "\n",
      "        [[[1.1111, 0.0000, 0.0000, 0.0000, 0.0000],\n",
      "          [0.4107, 0.7004, 0.0000, 0.0000, 0.0000],\n",
      "          [0.1840, 0.4457, 0.4814, 0.0000, 0.0000],\n",
      "          [0.3411, 0.2982, 0.2623, 0.2096, 0.0000],\n",
      "          [0.0000, 0.1788, 0.2608, 0.3198, 0.1825]],\n",
      "\n",
      "         [[1.1111, 0.0000, 0.0000, 0.0000, 0.0000],\n",
      "          [0.7043, 0.4068, 0.0000, 0.0000, 0.0000],\n",
      "          [0.3170, 0.4066, 0.0000, 0.0000, 0.0000],\n",
      "          [0.3596, 0.2538, 0.2680, 0.2297, 0.0000],\n",
      "          [0.1122, 0.2312, 0.2151, 0.2190, 0.3336]],\n",
      "\n",
      "         [[1.1111, 0.0000, 0.0000, 0.0000, 0.0000],\n",
      "          [0.8298, 0.2813, 0.0000, 0.0000, 0.0000],\n",
      "          [0.5001, 0.2379, 0.3731, 0.0000, 0.0000],\n",
      "          [0.2339, 0.3318, 0.3050, 0.2404, 0.0000],\n",
      "          [0.1293, 0.3206, 0.1537, 0.1860, 0.3215]],\n",
      "\n",
      "         [[1.1111, 0.0000, 0.0000, 0.0000, 0.0000],\n",
      "          [0.6377, 0.4734, 0.0000, 0.0000, 0.0000],\n",
      "          [0.3774, 0.4615, 0.2722, 0.0000, 0.0000],\n",
      "          [0.2859, 0.3321, 0.2938, 0.1993, 0.0000],\n",
      "          [0.2650, 0.0000, 0.2155, 0.2525, 0.2231]],\n",
      "\n",
      "         [[1.1111, 0.0000, 0.0000, 0.0000, 0.0000],\n",
      "          [0.5200, 0.5911, 0.0000, 0.0000, 0.0000],\n",
      "          [0.1969, 0.2141, 0.7000, 0.0000, 0.0000],\n",
      "          [0.2424, 0.0000, 0.3457, 0.0000, 0.0000],\n",
      "          [0.2360, 0.0000, 0.1746, 0.3409, 0.1875]],\n",
      "\n",
      "         [[1.1111, 0.0000, 0.0000, 0.0000, 0.0000],\n",
      "          [0.6685, 0.4426, 0.0000, 0.0000, 0.0000],\n",
      "          [0.4712, 0.2719, 0.3680, 0.0000, 0.0000],\n",
      "          [0.3482, 0.2196, 0.2725, 0.2708, 0.0000],\n",
      "          [0.0000, 0.2913, 0.1779, 0.1501, 0.2581]],\n",
      "\n",
      "         [[1.1111, 0.0000, 0.0000, 0.0000, 0.0000],\n",
      "          [0.6301, 0.4810, 0.0000, 0.0000, 0.0000],\n",
      "          [0.4545, 0.4695, 0.1871, 0.0000, 0.0000],\n",
      "          [0.2717, 0.2345, 0.3457, 0.2592, 0.0000],\n",
      "          [0.2180, 0.1515, 0.3135, 0.2788, 0.1493]],\n",
      "\n",
      "         [[1.1111, 0.0000, 0.0000, 0.0000, 0.0000],\n",
      "          [0.5987, 0.5124, 0.0000, 0.0000, 0.0000],\n",
      "          [0.5249, 0.2894, 0.2968, 0.0000, 0.0000],\n",
      "          [0.2853, 0.2905, 0.2448, 0.0000, 0.0000],\n",
      "          [0.2013, 0.2020, 0.2863, 0.1568, 0.2647]]]], grad_fn=<MulBackward0>)\n",
      "\n",
      " Attention Output:\n",
      "tensor([[[ 0.1924,  0.0546, -0.2805,  ...,  0.0065, -0.2920,  0.0971],\n",
      "         [ 0.0957,  0.2278, -0.1782,  ...,  0.0633, -0.0821, -0.0513],\n",
      "         [ 0.4056, -0.0813,  0.2427,  ...,  0.0938, -0.3154,  0.2244],\n",
      "         [ 0.3255,  0.0794,  0.2444,  ...,  0.0016,  0.0329,  0.0066],\n",
      "         [ 0.2840,  0.0477,  0.0684,  ...,  0.0513, -0.1411, -0.0650]],\n",
      "\n",
      "        [[ 0.1598,  0.4255,  0.1194,  ...,  0.1372,  0.3726,  0.4747],\n",
      "         [ 0.2770,  0.2134, -0.1369,  ...,  0.5176,  0.1071,  0.4313],\n",
      "         [ 0.2225, -0.0919, -0.1265,  ...,  0.4675, -0.1734,  0.1775],\n",
      "         [-0.0559,  0.0431, -0.0673,  ...,  0.2051, -0.1400,  0.1066],\n",
      "         [-0.0513, -0.0076, -0.0301,  ...,  0.0398, -0.2302,  0.1286]]],\n",
      "       grad_fn=<ViewBackward0>)\n"
     ]
    }
   ],
   "source": [
    "# Forward pass with causal mask\n",
    "print(\"\\nMulti-Head Attention Forward Pass with Causal Mask:\")\n",
    "output2, attn_weights2 = mha(x, x, x, mask=causal_mask, return_attention=True)\n",
    "\n",
    "print(\"\\n Attention Weights:\")\n",
    "print(attn_weights2)\n",
    "\n",
    "print(\"\\n Attention Output:\")\n",
    "print(output2)"
   ]
  },
  {
   "cell_type": "markdown",
   "id": "fe8d4a8e-d0ed-4dce-b6f8-f71b7b65dd43",
   "metadata": {},
   "source": [
    "### Attention Pattern Visualization"
   ]
  },
  {
   "cell_type": "code",
   "execution_count": 19,
   "id": "f37d0a5d-8e4b-43ef-93e1-3f65a7d3ad8a",
   "metadata": {},
   "outputs": [],
   "source": [
    "def plot_attention_patterns(attention_weights, titles):\n",
    "    \"\"\"Plot attention patterns from multiple attention heads.\"\"\"\n",
    "    fig, axes = plt.subplots(2, 4, figsize=(15, 6))\n",
    "    axes = axes.flatten()\n",
    "    \n",
    "    # Get the first sequence from the batch\n",
    "    seq_attention = attention_weights[0]  # [num_heads, seq_len, seq_len]\n",
    "    \n",
    "    for h in range(num_heads):\n",
    "        ax = axes[h]\n",
    "        att = seq_attention[h].detach().numpy()\n",
    "        im = ax.imshow(att, cmap='viridis')\n",
    "        ax.set_title(f\"{titles} - Head {h+1}\")\n",
    "        ax.set_xlabel(\"Key Position\")\n",
    "        ax.set_ylabel(\"Query Position\")\n",
    "    \n",
    "    fig.colorbar(im, ax=axes.ravel().tolist())\n",
    "    plt.tight_layout()\n",
    "    plt.show()"
   ]
  },
  {
   "cell_type": "code",
   "execution_count": 20,
   "id": "610442b6-45f9-469f-b12d-55d38b99fb8b",
   "metadata": {},
   "outputs": [
    {
     "name": "stderr",
     "output_type": "stream",
     "text": [
      "C:\\Users\\uzair\\AppData\\Local\\Temp\\ipykernel_27716\\4282585730.py:18: UserWarning: This figure includes Axes that are not compatible with tight_layout, so results might be incorrect.\n",
      "  plt.tight_layout()\n"
     ]
    },
    {
     "data": {
      "image/png": "[encoded data removed]",
      "text/plain": [
       "<Figure size 1500x600 with 9 Axes>"
      ]
     },
     "metadata": {},
     "output_type": "display_data"
    }
   ],
   "source": [
    "plot_attention_patterns(attn_weights1, \"Padding Mask\")"
   ]
  },
  {
   "cell_type": "code",
   "execution_count": 21,
   "id": "65bb39fe-29ef-46ba-929c-4ce777401411",
   "metadata": {},
   "outputs": [
    {
     "name": "stderr",
     "output_type": "stream",
     "text": [
      "C:\\Users\\uzair\\AppData\\Local\\Temp\\ipykernel_27716\\4282585730.py:18: UserWarning: This figure includes Axes that are not compatible with tight_layout, so results might be incorrect.\n",
      "  plt.tight_layout()\n"
     ]
    },
    {
     "data": {
      "image/png": "[encoded data removed]",
      "text/plain": [
       "<Figure size 1500x600 with 9 Axes>"
      ]
     },
     "metadata": {},
     "output_type": "display_data"
    }
   ],
   "source": [
    "plot_attention_patterns(attn_weights2, \"Causal Mask\")"
   ]
  },
  {
   "cell_type": "code",
   "execution_count": null,
   "id": "5cc58188-894a-4563-9e06-9b96ac0ddebf",
   "metadata": {},
   "outputs": [],
   "source": []
  }
 ],
 "metadata": {
  "kernelspec": {
   "display_name": "Python 3 (ipykernel)",
   "language": "python",
   "name": "python3"
  },
  "language_info": {
   "codemirror_mode": {
    "name": "ipython",
    "version": 3
   },
   "file_extension": ".py",
   "mimetype": "text/x-python",
   "name": "python",
   "nbconvert_exporter": "python",
   "pygments_lexer": "ipython3",
   "version": "3.10.11"
  }
 },
 "nbformat": 4,
 "nbformat_minor": 5
}
