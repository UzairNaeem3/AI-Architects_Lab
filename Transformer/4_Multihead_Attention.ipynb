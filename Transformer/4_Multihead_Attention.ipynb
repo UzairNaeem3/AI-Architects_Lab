{
 "cells": [
  {
   "cell_type": "markdown",
   "id": "38fca610-8d73-4d6a-8d10-67b19acdf411",
   "metadata": {},
   "source": [
    "## Multi Head Attention"
   ]
  },
  {
   "cell_type": "markdown",
   "id": "2f0fbb9f-cb30-473b-b3bd-c2a760450411",
   "metadata": {},
   "source": [
    "Multi-Head Attention model works by applying multiple attention mechanisms (or \"heads\") in parallel to the input sequence. Each head learns to focus on different parts of the input independently, and their outputs are concatenated and passed through a linear layer to produce the final result."
   ]
  },
  {
   "cell_type": "code",
   "execution_count": 1,
   "id": "a9de830c-3805-481a-8349-a780c77cb9a3",
   "metadata": {},
   "outputs": [],
   "source": [
    "import numpy as np\n",
    "import torch\n",
    "import torch.nn as nn\n",
    "import torch.nn.functional as F\n",
    "import math\n",
    "import matplotlib.pyplot as plt"
   ]
  },
  {
   "cell_type": "code",
   "execution_count": 2,
   "id": "6d87c1a4-60ed-407d-8377-38901e7728db",
   "metadata": {},
   "outputs": [],
   "source": [
    "# Example Configuration\n",
    "batch_size = 32\n",
    "seq_len = 10\n",
    "d_model = 512\n",
    "num_heads = 8\n",
    "d_head = d_model // num_heads  # d_head = 512 / 8 = 64"
   ]
  },
  {
   "cell_type": "markdown",
   "id": "3b7ecc86-c6b8-48a5-8b4c-7e9bbf21e721",
   "metadata": {},
   "source": [
    "#### 1. Input\n",
    "The input to the attention layer is a matrix of shape **(batch_size, seq_len, d_model)**, where:\n",
    "\n",
    "- **batch_size**: Number of samples in the batch.\n",
    "- **seq_len**: Length of the input sequence.\n",
    "- **d_model**: Dimensionality of the input embeddings.\n",
    "\n",
    "For example:\n",
    "- Input shape: **(32, 10, 512)** (batch size = 32, sequence length = 10, and model dimension = 512)."
   ]
  },
  {
   "cell_type": "code",
   "execution_count": 3,
   "id": "5fcfdd50-f8d5-47a2-a731-d98eacc4c8c6",
   "metadata": {},
   "outputs": [
    {
     "data": {
      "text/plain": [
       "torch.Size([32, 10, 512])"
      ]
     },
     "execution_count": 3,
     "metadata": {},
     "output_type": "execute_result"
    }
   ],
   "source": [
    "# Step 1: Input (random tensor simulating the embeddings)\n",
    "input_tensor = torch.randn(batch_size, seq_len, d_model)  # Shape: (batch_size, seq_len, d_model)\n",
    "input_tensor.shape"
   ]
  },
  {
   "cell_type": "markdown",
   "id": "3de0cfd1-8579-4952-a01a-1b0c9aa776f0",
   "metadata": {},
   "source": [
    "#### 2. Linear Projections for Q, K, and V\n",
    "The input is projected into three matrices: **Query (Q)**, **Key (K)**, and **Value (V)**, each of dimension **(batch_size, seq_len, d_model)**.\n",
    "\n",
    "Each of Q, K, and V are obtained by multiplying the input matrix by learnable weight matrices, so the dimensions of each are still **(batch_size, seq_len, d_model)**.\n",
    "\n",
    "For example:\n",
    "- Q, K, V shapes: **(32, 10, 512)**."
   ]
  },
  {
   "cell_type": "code",
   "execution_count": 4,
   "id": "c7de9f0f-28f2-4b25-a8be-0e39609752c2",
   "metadata": {},
   "outputs": [
    {
     "data": {
      "text/plain": [
       "(torch.Size([32, 10, 512]),\n",
       " torch.Size([32, 10, 512]),\n",
       " torch.Size([32, 10, 512]))"
      ]
     },
     "execution_count": 4,
     "metadata": {},
     "output_type": "execute_result"
    }
   ],
   "source": [
    "# Step 2: Linear Projections for Q, K, and V\n",
    "# Create 3 separate weight matrices for Query, Key, and Value, which will be learned.\n",
    "# Each of these weight matrices will have shape (d_model, d_model) for Q, K, V.\n",
    "\n",
    "W_q = nn.Linear(d_model, d_model)\n",
    "W_k = nn.Linear(d_model, d_model)\n",
    "W_v = nn.Linear(d_model, d_model)\n",
    "\n",
    "Q = W_q(input_tensor)  # Shape: (batch_size, seq_len, d_model)\n",
    "K = W_k(input_tensor)  # Shape: (batch_size, seq_len, d_model)\n",
    "V = W_v(input_tensor)  # Shape: (batch_size, seq_len, d_model)\n",
    "\n",
    "Q.shape, K.shape, V.shape"
   ]
  },
  {
   "cell_type": "markdown",
   "id": "0315a46e-35d9-48fc-8368-5debd22aaaa9",
   "metadata": {},
   "source": [
    "#### 3. Splitting into Heads\n",
    "To apply multi-head attention, we split the model dimension **d_model** into **num_heads** heads. Suppose we want **num_heads = 8** and **d_model = 512**, so each head will have a dimension of **d_head = d_model / num_heads = 512 / 8 = 64**.\n",
    "\n",
    "The matrices Q, K, and V are split into **num_heads** parts, resulting in each head having a dimension of **(batch_size, seq_len, d_head)**.\n",
    "\n",
    "For example:\n",
    "- Q, K, V shapes after splitting: **(32, 10, 64)** for each head.\n",
    "\n",
    "Now, we have **num_heads = 8** heads, so each head has a shape of **(32, 10, 64)**. For 8 heads, this becomes a shape of **(batch_size, num_heads, seq_len, d_head)**.\n",
    "\n",
    "For example:\n",
    "- Q, K, V for 8 heads: **(32, 8, 10, 64)**."
   ]
  },
  {
   "cell_type": "code",
   "execution_count": 5,
   "id": "0f7422dd-64a5-43b6-82f9-2f6d06254408",
   "metadata": {},
   "outputs": [
    {
     "data": {
      "text/plain": [
       "(torch.Size([32, 8, 10, 64]),\n",
       " torch.Size([32, 8, 10, 64]),\n",
       " torch.Size([32, 8, 10, 64]))"
      ]
     },
     "execution_count": 5,
     "metadata": {},
     "output_type": "execute_result"
    }
   ],
   "source": [
    "# Step 3: Splitting into Heads (num_heads = 8, d_head = 64)\n",
    "# Reshape Q, K, and V to split them into heads, which will have shape (batch_size, num_heads, seq_len, d_head).\n",
    "\n",
    "Q = Q.reshape(batch_size, seq_len, num_heads, d_head).permute(0, 2, 1, 3)  # Shape: (batch_size, num_heads, seq_len, d_head)\n",
    "K = K.reshape(batch_size, seq_len, num_heads, d_head).permute(0, 2, 1, 3)  # Shape: (batch_size, num_heads, seq_len, d_head)\n",
    "V = V.reshape(batch_size, seq_len, num_heads, d_head).permute(0, 2, 1, 3)  # Shape: (batch_size, num_heads, seq_len, d_head)\n",
    "\n",
    "Q.shape, K.shape, V.shape"
   ]
  },
  {
   "cell_type": "markdown",
   "id": "8596d643-d4bf-4bb7-bdc1-c1c663cebeba",
   "metadata": {},
   "source": [
    "#### 4. Scaled Dot-Product Attention\n",
    "Each head computes the scaled dot-product attention between the corresponding Query (Q) and Key (K) matrices. The result of this attention is a matrix of shape **(batch_size, num_heads, seq_len, seq_len)**.\n",
    "\n",
    "- The **Q** matrix has the shape **(batch_size, num_heads, seq_len, d_head)**, and the **K** matrix has the shape **(batch_size, num_heads, seq_len, d_head)**.\n",
    "- When performing the attention, we compute the dot product between each **Query** and **Key** for every position in the sequence. This results in a matrix of size **(batch_size, num_heads, seq_len, seq_len)**, where each **seq_len** in the rows corresponds to the attention of a query position, and the **seq_len** in the columns corresponds to the attention to all key positions.\n",
    "\n",
    "Thus, the output shape is **(batch_size, num_heads, seq_len, seq_len)**.\n",
    "\n",
    "For example:\n",
    "- Attention output for each head: **(32, 8, 10, 10)**."
   ]
  },
  {
   "cell_type": "code",
   "execution_count": 6,
   "id": "e2cffb48-0a80-4d52-88f1-40c1528465a5",
   "metadata": {},
   "outputs": [
    {
     "data": {
      "text/plain": [
       "torch.Size([32, 8, 10, 64])"
      ]
     },
     "execution_count": 6,
     "metadata": {},
     "output_type": "execute_result"
    }
   ],
   "source": [
    "# Step 4: Scaled Dot-Product Attention\n",
    "# Compute attention between Q and K and apply it to V.\n",
    "\n",
    "# Q and K have shape: (batch_size, num_heads, seq_len, d_head)\n",
    "# To compute attention, we take the dot product of Q and K transposed, then scale it by sqrt(d_head)\n",
    "attn_scores = torch.matmul(Q, K.transpose(-2, -1)) / d_head**0.5  # Shape: (batch_size, num_heads, seq_len, seq_len)\n",
    "\n",
    "# Apply softmax to get the attention weights (sum to 1 along the last dimension)\n",
    "attn_weights = F.softmax(attn_scores, dim=-1)  # Shape: (batch_size, num_heads, seq_len, seq_len)\n",
    "\n",
    "# Apply the attention weights to the Value matrix (V)\n",
    "attn_output = torch.matmul(attn_weights, V)  # Shape: (batch_size, num_heads, seq_len, d_head)\n",
    "\n",
    "attn_output.shape"
   ]
  },
  {
   "cell_type": "markdown",
   "id": "e71bcc9e-c5f3-48ad-a59b-dba9f8950446",
   "metadata": {},
   "source": [
    "#### 5. Concatenation of Heads\n",
    "After performing attention on each head, the results of all heads are concatenated. The resulting shape is **(batch_size, seq_len, d_model)**.\n",
    "\n",
    "For example, for 8 heads with **d_head = 64** each:\n",
    "- Concatenated output shape: **(32, 10, 512)**."
   ]
  },
  {
   "cell_type": "code",
   "execution_count": 7,
   "id": "a568b910-dc99-4162-b91d-1beeb5eef864",
   "metadata": {},
   "outputs": [
    {
     "data": {
      "text/plain": [
       "torch.Size([32, 10, 512])"
      ]
     },
     "execution_count": 7,
     "metadata": {},
     "output_type": "execute_result"
    }
   ],
   "source": [
    "# Step 5: Concatenate Heads\n",
    "# Concatenate the attention outputs from all heads along the last dimension.\n",
    "attn_output = attn_output.permute(0, 2, 1, 3).reshape(batch_size, seq_len, d_model)  # Shape: (batch_size, seq_len, d_model)\n",
    "\n",
    "attn_output.shape"
   ]
  },
  {
   "cell_type": "markdown",
   "id": "e9723208-da8f-476e-a50c-46ff691719ec",
   "metadata": {},
   "source": [
    "#### 6. Final Linear Projection\n",
    "The concatenated output is passed through a final linear layer to project it back into a **d_model**-dimensional space, which gives the final output shape as **(batch_size, seq_len, d_model)**.\n",
    "\n",
    "For example:\n",
    "- Final output shape: **(32, 10, 512)**."
   ]
  },
  {
   "cell_type": "code",
   "execution_count": 8,
   "id": "4b5d0d6e-fb93-48ed-b527-fe58a425d932",
   "metadata": {},
   "outputs": [
    {
     "data": {
      "text/plain": [
       "torch.Size([32, 10, 512])"
      ]
     },
     "execution_count": 8,
     "metadata": {},
     "output_type": "execute_result"
    }
   ],
   "source": [
    "# Step 6: Final Linear Projection\n",
    "# After concatenation, project the output back to the d_model dimension using a final linear layer\n",
    "\n",
    "W_o = nn.Linear(d_model, d_model)\n",
    "output = W_o(attn_output)  # Shape: (batch_size, seq_len, d_model)\n",
    "\n",
    "output.shape"
   ]
  },
  {
   "cell_type": "markdown",
   "id": "d9c6dc29-cd81-46fa-b816-57132142bb7c",
   "metadata": {},
   "source": [
    "#### Recap of Dimensions:\n",
    "- **Input**: **(32, 10, 512)**\n",
    "- **Q, K, V**: **(32, 10, 512)** (before splitting)\n",
    "- **Q, K, V per head**: **(32, 8, 10, 64)** (after splitting into 8 heads)\n",
    "- **Attention output**: **(32, 8, 10, 10)**\n",
    "- **Concatenated output**: **(32, 10, 512)**\n",
    "- **Final output**: **(32, 10, 512)**"
   ]
  },
  {
   "cell_type": "code",
   "execution_count": 9,
   "id": "5f3ab968-0ad3-474b-80dc-7bc59ee65209",
   "metadata": {},
   "outputs": [
    {
     "name": "stdout",
     "output_type": "stream",
     "text": [
      "Input shape: torch.Size([32, 10, 512])\n",
      "Q shape: torch.Size([32, 8, 10, 64])\n",
      "K shape: torch.Size([32, 8, 10, 64])\n",
      "V shape: torch.Size([32, 8, 10, 64])\n",
      "Attention scores shape: torch.Size([32, 8, 10, 10])\n",
      "Attention weights shape: torch.Size([32, 8, 10, 10])\n",
      "Attention output shape (after concatenation): torch.Size([32, 10, 512])\n",
      "Final output shape: torch.Size([32, 10, 512])\n"
     ]
    }
   ],
   "source": [
    "print(f\"Input shape: {input_tensor.shape}\")\n",
    "print(f\"Q shape: {Q.shape}\")\n",
    "print(f\"K shape: {K.shape}\")\n",
    "print(f\"V shape: {V.shape}\")\n",
    "print(f\"Attention scores shape: {attn_scores.shape}\")\n",
    "print(f\"Attention weights shape: {attn_weights.shape}\")\n",
    "print(f\"Attention output shape (after concatenation): {attn_output.shape}\")\n",
    "print(f\"Final output shape: {output.shape}\")"
   ]
  },
  {
   "cell_type": "markdown",
   "id": "c525abc0-f0f9-4ea4-bd28-1e26d508c2d9",
   "metadata": {},
   "source": [
    "### Class"
   ]
  },
  {
   "cell_type": "code",
   "execution_count": 10,
   "id": "eae170d4-9571-45ab-a9b3-3211242592ee",
   "metadata": {},
   "outputs": [],
   "source": [
    "class MultiHeadAttention(nn.Module):\n",
    "    def __init__(self, embed_dim=512, num_heads=8, dropout=0.1):\n",
    "        super().__init__()\n",
    "        self.embed_dim = embed_dim\n",
    "        self.num_heads = num_heads\n",
    "        self.head_dim = embed_dim // num_heads\n",
    "        \n",
    "        assert self.head_dim * num_heads == embed_dim, \"embed_dim must be divisible by num_heads\"\n",
    "        \n",
    "        # Linear projections for Q, K, V\n",
    "        self.q_linear = nn.Linear(embed_dim, embed_dim)\n",
    "        self.k_linear = nn.Linear(embed_dim, embed_dim)\n",
    "        self.v_linear = nn.Linear(embed_dim, embed_dim)\n",
    "        \n",
    "        # Final output projection\n",
    "        self.out_proj = nn.Linear(embed_dim, embed_dim)\n",
    "        self.dropout = nn.Dropout(dropout)\n",
    "        \n",
    "    def forward(self, x, mask=None):\n",
    "        # x shape: [batch_size, seq_len, embed_dim]\n",
    "        batch_size, seq_len, _ = x.size()\n",
    "        \n",
    "        # Compute Q, K, V\n",
    "        q = self.q_linear(x)  # [batch_size, seq_len, embed_dim]\n",
    "        k = self.k_linear(x)  # [batch_size, seq_len, embed_dim]\n",
    "        v = self.v_linear(x)  # [batch_size, seq_len, embed_dim]\n",
    "        \n",
    "        # Reshape for multi-head attention\n",
    "        # Split embed_dim into num_heads × head_dim\n",
    "        q = q.view(batch_size, seq_len, self.num_heads, self.head_dim).transpose(1, 2)\n",
    "        k = k.view(batch_size, seq_len, self.num_heads, self.head_dim).transpose(1, 2)\n",
    "        v = v.view(batch_size, seq_len, self.num_heads, self.head_dim).transpose(1, 2)\n",
    "        # q, k, v shapes: [batch_size, num_heads, seq_len, head_dim]\n",
    "        \n",
    "        # Calculate attention scores\n",
    "        attn_scores = torch.matmul(q, k.transpose(-2, -1))  # [batch_size, num_heads, seq_len, seq_len]\n",
    "        \n",
    "        # Scale attention scores\n",
    "        attn_scores = attn_scores / math.sqrt(self.head_dim)\n",
    "        \n",
    "        # Apply mask if provided\n",
    "        # mask shape: [batch_size, seq_len] or [batch_size, 1, seq_len] or [batch_size, seq_len, seq_len]\n",
    "        if mask is not None:\n",
    "            # Expand mask to match the attention scores dimensions\n",
    "            if mask.dim() == 2:\n",
    "                # [batch_size, seq_len] -> [batch_size, 1, 1, seq_len]\n",
    "                mask = mask.unsqueeze(1).unsqueeze(2)\n",
    "            elif mask.dim() == 3 and mask.size(1) == 1:\n",
    "                # [batch_size, 1, seq_len] -> [batch_size, 1, 1, seq_len]\n",
    "                mask = mask.unsqueeze(1)\n",
    "            elif mask.dim() == 3:\n",
    "                # [batch_size, seq_len, seq_len] -> [batch_size, 1, seq_len, seq_len]\n",
    "                mask = mask.unsqueeze(1)\n",
    "            \n",
    "            # Apply mask by setting masked positions to -inf before softmax\n",
    "            attn_scores = attn_scores.masked_fill(mask == 0, float('-inf')) # [batch_size, num_heads, seq_len, seq_len]\n",
    "        \n",
    "        # Apply softmax to get attention weights\n",
    "        attention_weights = F.softmax(attn_scores, dim=-1)  # [batch_size, num_heads, seq_len, seq_len]\n",
    "        attention_weights = self.dropout(attention_weights)\n",
    "        \n",
    "        # Apply attention weights to values\n",
    "        attn_output = torch.matmul(attention_weights, v)  # [batch_size, num_heads, seq_len, head_dim]\n",
    "        \n",
    "        # Reshape back to original dimension\n",
    "        attn_output = attn_output.transpose(1, 2).contiguous().view(batch_size, seq_len, self.embed_dim)\n",
    "        # attn_output shape: [batch_size, seq_len, embed_dim]\n",
    "        \n",
    "        # Final linear projection\n",
    "        output = self.out_proj(attn_output)  # [batch_size, seq_len, embed_dim]\n",
    "        \n",
    "        return output, attention_weights"
   ]
  },
  {
   "cell_type": "code",
   "execution_count": 11,
   "id": "e9f766e1-97a3-4fa9-8eab-506c97269167",
   "metadata": {},
   "outputs": [],
   "source": [
    "batch_size = 2\n",
    "seq_len = 5\n",
    "embed_dim = 512\n",
    "num_heads = 8"
   ]
  },
  {
   "cell_type": "code",
   "execution_count": 17,
   "id": "7bfb8e3b-e078-4153-bedc-65a7137484ff",
   "metadata": {},
   "outputs": [],
   "source": [
    "mha = MultiHeadAttention(embed_dim=embed_dim, num_heads=num_heads)\n",
    "\n",
    "# Input tensor\n",
    "x = torch.randn(batch_size, seq_len, embed_dim)"
   ]
  },
  {
   "cell_type": "markdown",
   "id": "a4f1f9e7-2547-442a-8e39-94522ae27dc3",
   "metadata": {},
   "source": [
    "### Example 1: Using Padding Mask\n",
    "\n",
    "Used to prevent attention to padding tokens in batched variable-length sequences\n",
    "- **Dimensions**: [batch_size, seq_len] = [2, 5]\n",
    "- **Values**: 1 for real tokens, 0 for padding tokens"
   ]
  },
  {
   "cell_type": "code",
   "execution_count": 18,
   "id": "60814566-1c4b-4346-9897-d0fe81652f4d",
   "metadata": {},
   "outputs": [
    {
     "data": {
      "text/plain": [
       "tensor([[True, True, True, True, True],\n",
       "        [True, True, True, True, True]])"
      ]
     },
     "execution_count": 18,
     "metadata": {},
     "output_type": "execute_result"
    }
   ],
   "source": [
    "# padding mask (1 for tokens to keep, 0 for padding tokens to mask)\n",
    "padding_mask = torch.ones(batch_size, seq_len, dtype=torch.bool)\n",
    "padding_mask"
   ]
  },
  {
   "cell_type": "code",
   "execution_count": 19,
   "id": "0fc8e3ed-df8d-4729-8e78-69568dbf684b",
   "metadata": {},
   "outputs": [
    {
     "data": {
      "text/plain": [
       "tensor([[ True,  True,  True,  True, False],\n",
       "        [ True,  True,  True, False, False]])"
      ]
     },
     "execution_count": 19,
     "metadata": {},
     "output_type": "execute_result"
    }
   ],
   "source": [
    "# First sequence has 4 valid tokens, second has 3\n",
    "padding_mask[0, 4] = 0  # Mask last position in first sequence\n",
    "padding_mask[1, 3:] = 0  # Mask last two positions in second sequence\n",
    "\n",
    "padding_mask"
   ]
  },
  {
   "cell_type": "code",
   "execution_count": 20,
   "id": "93b67689-1159-4237-897a-c49293691ea7",
   "metadata": {},
   "outputs": [
    {
     "data": {
      "image/png": "[encoded data removed]",
      "text/plain": [
       "<Figure size 1000x300 with 2 Axes>"
      ]
     },
     "metadata": {},
     "output_type": "display_data"
    }
   ],
   "source": [
    "# Visualize the padding mask\n",
    "fig, ax = plt.subplots(1, 2, figsize=(10, 3))\n",
    "for i in range(batch_size):\n",
    "    mask_np = padding_mask[i].int().numpy().reshape(1, -1)\n",
    "    ax[i].imshow(mask_np, cmap='binary', interpolation='none')\n",
    "    ax[i].set_title(f\"Sequence {i+1} Padding Mask\")\n",
    "    ax[i].set_yticks([])\n",
    "    ax[i].set_xticks(range(seq_len))\n",
    "    ax[i].set_xlabel(\"Sequence Position\")\n",
    "plt.tight_layout()\n",
    "plt.show()"
   ]
  },
  {
   "cell_type": "code",
   "execution_count": 33,
   "id": "9239b758-d149-448d-8c80-9520d0df6b30",
   "metadata": {
    "scrolled": true
   },
   "outputs": [
    {
     "name": "stdout",
     "output_type": "stream",
     "text": [
      "\n",
      "Multi-Head Attention Forward Pass with Padding Mask:\n",
      "\n",
      " Attention Weights:\n",
      "tensor([[[[0.2470, 0.1799, 0.2965, 0.0000, 0.0000],\n",
      "          [0.3894, 0.0000, 0.3008, 0.2396, 0.0000],\n",
      "          [0.3093, 0.2143, 0.2617, 0.3259, 0.0000],\n",
      "          [0.1848, 0.3578, 0.2624, 0.0000, 0.0000],\n",
      "          [0.2177, 0.3234, 0.1439, 0.4261, 0.0000]],\n",
      "\n",
      "         [[0.3440, 0.2614, 0.2673, 0.2385, 0.0000],\n",
      "          [0.2979, 0.2386, 0.3014, 0.2732, 0.0000],\n",
      "          [0.2350, 0.4610, 0.2578, 0.1573, 0.0000],\n",
      "          [0.0000, 0.3730, 0.2940, 0.1390, 0.0000],\n",
      "          [0.4081, 0.0000, 0.1354, 0.3239, 0.0000]],\n",
      "\n",
      "         [[0.2929, 0.2089, 0.3392, 0.2702, 0.0000],\n",
      "          [0.2768, 0.2048, 0.2831, 0.3465, 0.0000],\n",
      "          [0.2367, 0.2688, 0.3178, 0.2878, 0.0000],\n",
      "          [0.3815, 0.1995, 0.2389, 0.0000, 0.0000],\n",
      "          [0.3318, 0.2753, 0.1850, 0.3190, 0.0000]],\n",
      "\n",
      "         [[0.3273, 0.3637, 0.1369, 0.2832, 0.0000],\n",
      "          [0.5569, 0.1705, 0.1915, 0.1922, 0.0000],\n",
      "          [0.1841, 0.2736, 0.3898, 0.0000, 0.0000],\n",
      "          [0.2000, 0.2992, 0.2836, 0.3284, 0.0000],\n",
      "          [0.2504, 0.1564, 0.4461, 0.2583, 0.0000]],\n",
      "\n",
      "         [[0.2868, 0.2341, 0.2313, 0.0000, 0.0000],\n",
      "          [0.2183, 0.2988, 0.3112, 0.2828, 0.0000],\n",
      "          [0.2693, 0.3023, 0.2613, 0.2782, 0.0000],\n",
      "          [0.2660, 0.2880, 0.3008, 0.2563, 0.0000],\n",
      "          [0.3152, 0.3324, 0.2414, 0.2222, 0.0000]],\n",
      "\n",
      "         [[0.3190, 0.0000, 0.2267, 0.3202, 0.0000],\n",
      "          [0.4393, 0.0000, 0.2651, 0.1529, 0.0000],\n",
      "          [0.2445, 0.3731, 0.3213, 0.1722, 0.0000],\n",
      "          [0.2475, 0.3535, 0.0000, 0.2876, 0.0000],\n",
      "          [0.2777, 0.2563, 0.2266, 0.3505, 0.0000]],\n",
      "\n",
      "         [[0.4137, 0.0000, 0.1675, 0.2105, 0.0000],\n",
      "          [0.2918, 0.4196, 0.2069, 0.1928, 0.0000],\n",
      "          [0.2515, 0.2870, 0.2855, 0.2870, 0.0000],\n",
      "          [0.3146, 0.3343, 0.1915, 0.0000, 0.0000],\n",
      "          [0.2129, 0.4486, 0.1697, 0.2799, 0.0000]],\n",
      "\n",
      "         [[0.1992, 0.2789, 0.2840, 0.3490, 0.0000],\n",
      "          [0.1731, 0.5049, 0.3258, 0.1073, 0.0000],\n",
      "          [0.3529, 0.1340, 0.3267, 0.2975, 0.0000],\n",
      "          [0.2310, 0.2259, 0.4714, 0.1829, 0.0000],\n",
      "          [0.1902, 0.3211, 0.3246, 0.2752, 0.0000]]],\n",
      "\n",
      "\n",
      "        [[[0.0000, 0.3178, 0.3867, 0.0000, 0.0000],\n",
      "          [0.0000, 0.2628, 0.4263, 0.0000, 0.0000],\n",
      "          [0.4332, 0.4385, 0.2394, 0.0000, 0.0000],\n",
      "          [0.3321, 0.2270, 0.5520, 0.0000, 0.0000],\n",
      "          [0.5528, 0.2989, 0.2594, 0.0000, 0.0000]],\n",
      "\n",
      "         [[0.3403, 0.2971, 0.4738, 0.0000, 0.0000],\n",
      "          [0.3220, 0.4023, 0.3868, 0.0000, 0.0000],\n",
      "          [0.3780, 0.3098, 0.4234, 0.0000, 0.0000],\n",
      "          [0.2776, 0.1734, 0.6601, 0.0000, 0.0000],\n",
      "          [0.4398, 0.3213, 0.3500, 0.0000, 0.0000]],\n",
      "\n",
      "         [[0.2738, 0.3645, 0.4728, 0.0000, 0.0000],\n",
      "          [0.3191, 0.0000, 0.3877, 0.0000, 0.0000],\n",
      "          [0.0000, 0.0000, 0.0000, 0.0000, 0.0000],\n",
      "          [0.5210, 0.2152, 0.3749, 0.0000, 0.0000],\n",
      "          [0.2501, 0.5802, 0.2809, 0.0000, 0.0000]],\n",
      "\n",
      "         [[0.2362, 0.2979, 0.5769, 0.0000, 0.0000],\n",
      "          [0.4867, 0.2071, 0.4173, 0.0000, 0.0000],\n",
      "          [0.4022, 0.5487, 0.0000, 0.0000, 0.0000],\n",
      "          [0.3375, 0.0000, 0.3610, 0.0000, 0.0000],\n",
      "          [0.3509, 0.0000, 0.5287, 0.0000, 0.0000]],\n",
      "\n",
      "         [[0.4876, 0.2658, 0.3577, 0.0000, 0.0000],\n",
      "          [0.3604, 0.2713, 0.0000, 0.0000, 0.0000],\n",
      "          [0.4179, 0.4412, 0.2520, 0.0000, 0.0000],\n",
      "          [0.2495, 0.3618, 0.4999, 0.0000, 0.0000],\n",
      "          [0.3630, 0.4450, 0.3031, 0.0000, 0.0000]],\n",
      "\n",
      "         [[0.3357, 0.4538, 0.3217, 0.0000, 0.0000],\n",
      "          [0.4006, 0.3066, 0.4039, 0.0000, 0.0000],\n",
      "          [0.2888, 0.3140, 0.5083, 0.0000, 0.0000],\n",
      "          [0.2503, 0.1945, 0.6664, 0.0000, 0.0000],\n",
      "          [0.3999, 0.5072, 0.2040, 0.0000, 0.0000]],\n",
      "\n",
      "         [[0.3563, 0.2939, 0.4610, 0.0000, 0.0000],\n",
      "          [0.2917, 0.5475, 0.2719, 0.0000, 0.0000],\n",
      "          [0.2578, 0.6503, 0.2030, 0.0000, 0.0000],\n",
      "          [0.4108, 0.3274, 0.3729, 0.0000, 0.0000],\n",
      "          [0.4288, 0.3727, 0.0000, 0.0000, 0.0000]],\n",
      "\n",
      "         [[0.2132, 0.0000, 0.3759, 0.0000, 0.0000],\n",
      "          [0.3427, 0.0000, 0.4545, 0.0000, 0.0000],\n",
      "          [0.6002, 0.1223, 0.0000, 0.0000, 0.0000],\n",
      "          [0.4572, 0.2307, 0.4232, 0.0000, 0.0000],\n",
      "          [0.5364, 0.2364, 0.3383, 0.0000, 0.0000]]]], grad_fn=<MulBackward0>)\n",
      "\n",
      " Attention Output:\n",
      "tensor([[[-0.3617, -0.2991,  0.0548,  ..., -0.0200, -0.0843,  0.1507],\n",
      "         [-0.4702, -0.4871,  0.0077,  ..., -0.0013, -0.0923,  0.2121],\n",
      "         [-0.4510, -0.4562, -0.0079,  ..., -0.0869, -0.1333,  0.2039],\n",
      "         [-0.3416, -0.3537,  0.0123,  ..., -0.0608, -0.0426,  0.1784],\n",
      "         [-0.4266, -0.3694, -0.1312,  ..., -0.0145, -0.0921,  0.1848]],\n",
      "\n",
      "        [[ 0.2576,  0.0868,  0.0231,  ..., -0.1873, -0.1569, -0.0759],\n",
      "         [ 0.2848,  0.0020,  0.0697,  ..., -0.3105, -0.0641,  0.0121],\n",
      "         [ 0.2945,  0.0998, -0.0203,  ..., -0.1864, -0.1400, -0.0452],\n",
      "         [ 0.2412,  0.1907,  0.1406,  ..., -0.1519, -0.0872, -0.1347],\n",
      "         [ 0.1766,  0.2061,  0.1249,  ..., -0.0881, -0.2334, -0.1065]]],\n",
      "       grad_fn=<ViewBackward0>)\n"
     ]
    }
   ],
   "source": [
    "# Forward pass with padding mask\n",
    "print(\"\\nMulti-Head Attention Forward Pass with Padding Mask:\")\n",
    "output1, attn_weights1 = mha(x, mask=padding_mask)\n",
    "\n",
    "print(\"\\n Attention Weights:\")\n",
    "print(attn_weights1)\n",
    "\n",
    "print(\"\\n Attention Output:\")\n",
    "print(output1)"
   ]
  },
  {
   "cell_type": "markdown",
   "id": "00028abd-4726-4efb-b857-115da398313d",
   "metadata": {},
   "source": [
    "### Example 2: Using Causal Mask\n",
    "\n",
    "Used in decoder self-attention to prevent attending to future tokens\n",
    "- **Dimensions**: 1, seq_len, seq_len] = [1, 5, 5]\n",
    "- **Values**: Lower triangular matrix of 1s (tokens can only attend to previous positions)"
   ]
  },
  {
   "cell_type": "code",
   "execution_count": 37,
   "id": "13a3259e-b871-4753-8ff7-340e02526961",
   "metadata": {},
   "outputs": [
    {
     "name": "stdout",
     "output_type": "stream",
     "text": [
      "torch.Size([1, 5, 5]) \n",
      "\n"
     ]
    },
    {
     "data": {
      "text/plain": [
       "tensor([[[1., 0., 0., 0., 0.],\n",
       "         [1., 1., 0., 0., 0.],\n",
       "         [1., 1., 1., 0., 0.],\n",
       "         [1., 1., 1., 1., 0.],\n",
       "         [1., 1., 1., 1., 1.]]])"
      ]
     },
     "execution_count": 37,
     "metadata": {},
     "output_type": "execute_result"
    }
   ],
   "source": [
    "# causal mask (for autoregressive/decoder attention)\n",
    "causal_mask = torch.tril(torch.ones(seq_len, seq_len)).unsqueeze(0)\n",
    "print(causal_mask.shape, '\\n')\n",
    "\n",
    "causal_mask"
   ]
  },
  {
   "cell_type": "code",
   "execution_count": 38,
   "id": "b20028e9-b548-4a5e-ada0-83f27961f822",
   "metadata": {},
   "outputs": [
    {
     "data": {
      "image/png": "[encoded data removed]",
      "text/plain": [
       "<Figure size 500x400 with 2 Axes>"
      ]
     },
     "metadata": {},
     "output_type": "display_data"
    }
   ],
   "source": [
    "# Visualize the causal mask\n",
    "plt.figure(figsize=(5, 4))\n",
    "plt.imshow(causal_mask[0].numpy(), cmap='binary')\n",
    "plt.title(\"Causal/Autoregressive Mask\")\n",
    "plt.xlabel(\"Key Position\")\n",
    "plt.ylabel(\"Query Position\")\n",
    "plt.colorbar(label=\"Mask Value\")\n",
    "plt.tight_layout()\n",
    "plt.show()"
   ]
  },
  {
   "cell_type": "code",
   "execution_count": 39,
   "id": "475eb0c6-4df6-4ffa-b334-42dec79ebc06",
   "metadata": {},
   "outputs": [
    {
     "name": "stdout",
     "output_type": "stream",
     "text": [
      "\n",
      "Multi-Head Attention Forward Pass with Causal Mask:\n",
      "\n",
      " Attention Weights:\n",
      "tensor([[[[1.1111, 0.0000, 0.0000, 0.0000, 0.0000],\n",
      "          [0.7581, 0.3530, 0.0000, 0.0000, 0.0000],\n",
      "          [0.4377, 0.3032, 0.3703, 0.0000, 0.0000],\n",
      "          [0.1848, 0.3578, 0.2624, 0.3061, 0.0000],\n",
      "          [0.1956, 0.2905, 0.1292, 0.3827, 0.1131]],\n",
      "\n",
      "         [[1.1111, 0.0000, 0.0000, 0.0000, 0.0000],\n",
      "          [0.6169, 0.4942, 0.0000, 0.0000, 0.0000],\n",
      "          [0.2737, 0.5370, 0.3004, 0.0000, 0.0000],\n",
      "          [0.3052, 0.3730, 0.2940, 0.1390, 0.0000],\n",
      "          [0.3303, 0.1973, 0.1096, 0.0000, 0.2116]],\n",
      "\n",
      "         [[1.1111, 0.0000, 0.0000, 0.0000, 0.0000],\n",
      "          [0.6386, 0.4726, 0.0000, 0.0000, 0.0000],\n",
      "          [0.3195, 0.3627, 0.4289, 0.0000, 0.0000],\n",
      "          [0.3815, 0.0000, 0.2389, 0.2912, 0.0000],\n",
      "          [0.2430, 0.2017, 0.1355, 0.2337, 0.2973]],\n",
      "\n",
      "         [[1.1111, 0.0000, 0.0000, 0.0000, 0.0000],\n",
      "          [0.8507, 0.2604, 0.0000, 0.0000, 0.0000],\n",
      "          [0.2414, 0.3587, 0.5110, 0.0000, 0.0000],\n",
      "          [0.2000, 0.2992, 0.2836, 0.3284, 0.0000],\n",
      "          [0.1891, 0.1181, 0.0000, 0.1951, 0.2719]],\n",
      "\n",
      "         [[1.1111, 0.0000, 0.0000, 0.0000, 0.0000],\n",
      "          [0.4690, 0.6421, 0.0000, 0.0000, 0.0000],\n",
      "          [0.0000, 0.0000, 0.3486, 0.0000, 0.0000],\n",
      "          [0.2660, 0.2880, 0.3008, 0.0000, 0.0000],\n",
      "          [0.2423, 0.2555, 0.1855, 0.1707, 0.2571]],\n",
      "\n",
      "         [[1.1111, 0.0000, 0.0000, 0.0000, 0.0000],\n",
      "          [0.7043, 0.4068, 0.0000, 0.0000, 0.0000],\n",
      "          [0.2894, 0.4416, 0.3802, 0.0000, 0.0000],\n",
      "          [0.2475, 0.3535, 0.2225, 0.2876, 0.0000],\n",
      "          [0.0000, 0.2013, 0.0000, 0.2753, 0.2384]],\n",
      "\n",
      "         [[1.1111, 0.0000, 0.0000, 0.0000, 0.0000],\n",
      "          [0.4557, 0.6554, 0.0000, 0.0000, 0.0000],\n",
      "          [0.3391, 0.3870, 0.3850, 0.0000, 0.0000],\n",
      "          [0.0000, 0.3343, 0.1915, 0.2707, 0.0000],\n",
      "          [0.1732, 0.0000, 0.1381, 0.2277, 0.2072]],\n",
      "\n",
      "         [[1.1111, 0.0000, 0.0000, 0.0000, 0.0000],\n",
      "          [0.2836, 0.0000, 0.0000, 0.0000, 0.0000],\n",
      "          [0.4820, 0.1830, 0.4461, 0.0000, 0.0000],\n",
      "          [0.2310, 0.2259, 0.4714, 0.1829, 0.0000],\n",
      "          [0.1416, 0.0000, 0.2415, 0.2048, 0.2842]]],\n",
      "\n",
      "\n",
      "        [[[1.1111, 0.0000, 0.0000, 0.0000, 0.0000],\n",
      "          [0.6848, 0.4263, 0.0000, 0.0000, 0.0000],\n",
      "          [0.4332, 0.4385, 0.2394, 0.0000, 0.0000],\n",
      "          [0.2589, 0.0000, 0.4303, 0.2449, 0.0000],\n",
      "          [0.3280, 0.1773, 0.1539, 0.2655, 0.1864]],\n",
      "\n",
      "         [[1.1111, 0.0000, 0.0000, 0.0000, 0.0000],\n",
      "          [0.4939, 0.0000, 0.0000, 0.0000, 0.0000],\n",
      "          [0.0000, 0.3098, 0.4234, 0.0000, 0.0000],\n",
      "          [0.2291, 0.1431, 0.5449, 0.0000, 0.0000],\n",
      "          [0.2568, 0.1876, 0.2044, 0.1848, 0.2775]],\n",
      "\n",
      "         [[1.1111, 0.0000, 0.0000, 0.0000, 0.0000],\n",
      "          [0.0000, 0.6210, 0.0000, 0.0000, 0.0000],\n",
      "          [0.3790, 0.4475, 0.0000, 0.0000, 0.0000],\n",
      "          [0.3921, 0.1620, 0.2822, 0.2749, 0.0000],\n",
      "          [0.1409, 0.3270, 0.1583, 0.1675, 0.3174]],\n",
      "\n",
      "         [[1.1111, 0.0000, 0.0000, 0.0000, 0.0000],\n",
      "          [0.7794, 0.3317, 0.0000, 0.0000, 0.0000],\n",
      "          [0.4022, 0.5487, 0.1602, 0.0000, 0.0000],\n",
      "          [0.0000, 0.2969, 0.2598, 0.3115, 0.0000],\n",
      "          [0.2476, 0.1634, 0.3731, 0.2239, 0.1031]],\n",
      "\n",
      "         [[1.1111, 0.0000, 0.0000, 0.0000, 0.0000],\n",
      "          [0.6339, 0.4772, 0.0000, 0.0000, 0.0000],\n",
      "          [0.0000, 0.4412, 0.2520, 0.0000, 0.0000],\n",
      "          [0.2105, 0.3053, 0.4219, 0.0000, 0.0000],\n",
      "          [0.2739, 0.3358, 0.2287, 0.1417, 0.0000]],\n",
      "\n",
      "         [[1.1111, 0.0000, 0.0000, 0.0000, 0.0000],\n",
      "          [0.6294, 0.4817, 0.0000, 0.0000, 0.0000],\n",
      "          [0.0000, 0.3140, 0.5083, 0.0000, 0.0000],\n",
      "          [0.2000, 0.1554, 0.0000, 0.2233, 0.0000],\n",
      "          [0.2370, 0.3007, 0.1209, 0.0000, 0.2537]],\n",
      "\n",
      "         [[1.1111, 0.0000, 0.0000, 0.0000, 0.0000],\n",
      "          [0.0000, 0.7249, 0.0000, 0.0000, 0.0000],\n",
      "          [0.2578, 0.6503, 0.2030, 0.0000, 0.0000],\n",
      "          [0.3460, 0.2758, 0.3141, 0.1752, 0.0000],\n",
      "          [0.2409, 0.0000, 0.0000, 0.1813, 0.3056]],\n",
      "\n",
      "         [[1.1111, 0.0000, 0.0000, 0.0000, 0.0000],\n",
      "          [0.5799, 0.5313, 0.0000, 0.0000, 0.0000],\n",
      "          [0.6002, 0.0000, 0.0000, 0.0000, 0.0000],\n",
      "          [0.0000, 0.1811, 0.3323, 0.2387, 0.0000],\n",
      "          [0.4026, 0.1774, 0.2539, 0.0912, 0.0000]]]], grad_fn=<MulBackward0>)\n",
      "\n",
      " Attention Output:\n",
      "tensor([[[-0.2371, -0.2025,  0.3528,  ...,  0.2060, -0.1409,  0.0939],\n",
      "         [-0.4419, -0.1974,  0.0640,  ..., -0.2776, -0.0254,  0.1554],\n",
      "         [-0.3528, -0.5300,  0.1662,  ..., -0.1044, -0.0076,  0.3206],\n",
      "         [-0.3341, -0.5038, -0.0306,  ..., -0.1267,  0.0030,  0.1820],\n",
      "         [-0.1123, -0.0989, -0.0092,  ...,  0.0239, -0.0904,  0.0122]],\n",
      "\n",
      "        [[ 0.4675,  0.1055, -0.0445,  ..., -0.2939, -0.0498,  0.3066],\n",
      "         [ 0.2380,  0.0708,  0.0629,  ..., -0.2343, -0.2763, -0.0807],\n",
      "         [ 0.1864,  0.2387, -0.1292,  ..., -0.0549, -0.2751, -0.0642],\n",
      "         [ 0.1110,  0.0612, -0.1966,  ...,  0.0627, -0.0836,  0.0188],\n",
      "         [ 0.1526,  0.1519,  0.0878,  ...,  0.0200, -0.1761, -0.0454]]],\n",
      "       grad_fn=<ViewBackward0>)\n"
     ]
    }
   ],
   "source": [
    "# Forward pass with causal mask\n",
    "print(\"\\nMulti-Head Attention Forward Pass with Causal Mask:\")\n",
    "output2, attn_weights2 = mha(x, mask=causal_mask)\n",
    "\n",
    "print(\"\\n Attention Weights:\")\n",
    "print(attn_weights2)\n",
    "\n",
    "print(\"\\n Attention Output:\")\n",
    "print(output2)"
   ]
  },
  {
   "cell_type": "markdown",
   "id": "fe8d4a8e-d0ed-4dce-b6f8-f71b7b65dd43",
   "metadata": {},
   "source": [
    "### Attention Pattern Visualization"
   ]
  },
  {
   "cell_type": "code",
   "execution_count": 49,
   "id": "f37d0a5d-8e4b-43ef-93e1-3f65a7d3ad8a",
   "metadata": {},
   "outputs": [],
   "source": [
    "def plot_attention_patterns(attention_weights, titles):\n",
    "    \"\"\"Plot attention patterns from multiple attention heads.\"\"\"\n",
    "    fig, axes = plt.subplots(2, 4, figsize=(15, 6))\n",
    "    axes = axes.flatten()\n",
    "    \n",
    "    # Get the first sequence from the batch\n",
    "    seq_attention = attention_weights[0]  # [num_heads, seq_len, seq_len]\n",
    "    \n",
    "    for h in range(num_heads):\n",
    "        ax = axes[h]\n",
    "        att = seq_attention[h].detach().numpy()\n",
    "        im = ax.imshow(att, cmap='viridis')\n",
    "        ax.set_title(f\"{titles} - Head {h+1}\")\n",
    "        ax.set_xlabel(\"Key Position\")\n",
    "        ax.set_ylabel(\"Query Position\")\n",
    "    \n",
    "    fig.colorbar(im, ax=axes.ravel().tolist())\n",
    "    plt.tight_layout()\n",
    "    plt.show()"
   ]
  },
  {
   "cell_type": "code",
   "execution_count": 50,
   "id": "610442b6-45f9-469f-b12d-55d38b99fb8b",
   "metadata": {},
   "outputs": [
    {
     "name": "stderr",
     "output_type": "stream",
     "text": [
      "C:\\Users\\uzair\\AppData\\Local\\Temp\\ipykernel_28568\\4282585730.py:18: UserWarning: This figure includes Axes that are not compatible with tight_layout, so results might be incorrect.\n",
      "  plt.tight_layout()\n"
     ]
    },
    {
     "data": {
      "image/png": "[encoded data removed]",
      "text/plain": [
       "<Figure size 1500x600 with 9 Axes>"
      ]
     },
     "metadata": {},
     "output_type": "display_data"
    }
   ],
   "source": [
    "plot_attention_patterns(attn_weights1, \"Padding Mask\")"
   ]
  },
  {
   "cell_type": "code",
   "execution_count": 48,
   "id": "65bb39fe-29ef-46ba-929c-4ce777401411",
   "metadata": {},
   "outputs": [
    {
     "name": "stderr",
     "output_type": "stream",
     "text": [
      "C:\\Users\\uzair\\AppData\\Local\\Temp\\ipykernel_28568\\590554982.py:18: UserWarning: This figure includes Axes that are not compatible with tight_layout, so results might be incorrect.\n",
      "  plt.tight_layout()\n"
     ]
    },
    {
     "data": {
      "image/png": "[encoded data removed]",
      "text/plain": [
       "<Figure size 1500x600 with 9 Axes>"
      ]
     },
     "metadata": {},
     "output_type": "display_data"
    }
   ],
   "source": [
    "plot_attention_patterns(attn_weights2, \"Causal Mask\")"
   ]
  }
 ],
 "metadata": {
  "kernelspec": {
   "display_name": "Python 3 (ipykernel)",
   "language": "python",
   "name": "python3"
  },
  "language_info": {
   "codemirror_mode": {
    "name": "ipython",
    "version": 3
   },
   "file_extension": ".py",
   "mimetype": "text/x-python",
   "name": "python",
   "nbconvert_exporter": "python",
   "pygments_lexer": "ipython3",
   "version": "3.10.11"
  }
 },
 "nbformat": 4,
 "nbformat_minor": 5
}
