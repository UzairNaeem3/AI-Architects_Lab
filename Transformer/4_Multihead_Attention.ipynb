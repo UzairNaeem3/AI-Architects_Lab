{
 "cells": [
  {
   "cell_type": "markdown",
   "id": "38fca610-8d73-4d6a-8d10-67b19acdf411",
   "metadata": {},
   "source": [
    "## Multi Head Attention"
   ]
  },
  {
   "cell_type": "markdown",
   "id": "2f0fbb9f-cb30-473b-b3bd-c2a760450411",
   "metadata": {},
   "source": [
    "Multi-Head Attention model works by applying multiple attention mechanisms (or \"heads\") in parallel to the input sequence. Each head learns to focus on different parts of the input independently, and their outputs are concatenated and passed through a linear layer to produce the final result."
   ]
  },
  {
   "cell_type": "code",
   "execution_count": 1,
   "id": "a9de830c-3805-481a-8349-a780c77cb9a3",
   "metadata": {},
   "outputs": [],
   "source": [
    "import numpy as np\n",
    "import torch\n",
    "import torch.nn as nn\n",
    "import torch.nn.functional as F\n",
    "import math\n",
    "import matplotlib.pyplot as plt"
   ]
  },
  {
   "cell_type": "code",
   "execution_count": 2,
   "id": "6d87c1a4-60ed-407d-8377-38901e7728db",
   "metadata": {},
   "outputs": [],
   "source": [
    "# Example Configuration\n",
    "batch_size = 32\n",
    "seq_len = 10\n",
    "d_model = 512\n",
    "num_heads = 8\n",
    "d_head = d_model // num_heads  # d_head = 512 / 8 = 64"
   ]
  },
  {
   "cell_type": "markdown",
   "id": "3b7ecc86-c6b8-48a5-8b4c-7e9bbf21e721",
   "metadata": {},
   "source": [
    "#### 1. Input\n",
    "The input to the attention layer is a matrix of shape **(batch_size, seq_len, d_model)**, where:\n",
    "\n",
    "- **batch_size**: Number of samples in the batch.\n",
    "- **seq_len**: Length of the input sequence.\n",
    "- **d_model**: Dimensionality of the input embeddings.\n",
    "\n",
    "For example:\n",
    "- Input shape: **(32, 10, 512)** (batch size = 32, sequence length = 10, and model dimension = 512)."
   ]
  },
  {
   "cell_type": "code",
   "execution_count": 3,
   "id": "5fcfdd50-f8d5-47a2-a731-d98eacc4c8c6",
   "metadata": {},
   "outputs": [
    {
     "data": {
      "text/plain": [
       "torch.Size([32, 10, 512])"
      ]
     },
     "execution_count": 3,
     "metadata": {},
     "output_type": "execute_result"
    }
   ],
   "source": [
    "# Step 1: Input (random tensor simulating the embeddings)\n",
    "input_tensor = torch.randn(batch_size, seq_len, d_model)  # Shape: (batch_size, seq_len, d_model)\n",
    "input_tensor.shape"
   ]
  },
  {
   "cell_type": "markdown",
   "id": "3de0cfd1-8579-4952-a01a-1b0c9aa776f0",
   "metadata": {},
   "source": [
    "#### 2. Linear Projections for Q, K, and V\n",
    "The input is projected into three matrices: **Query (Q)**, **Key (K)**, and **Value (V)**, each of dimension **(batch_size, seq_len, d_model)**.\n",
    "\n",
    "Each of Q, K, and V are obtained by multiplying the input matrix by learnable weight matrices, so the dimensions of each are still **(batch_size, seq_len, d_model)**.\n",
    "\n",
    "For example:\n",
    "- Q, K, V shapes: **(32, 10, 512)**."
   ]
  },
  {
   "cell_type": "code",
   "execution_count": 4,
   "id": "c7de9f0f-28f2-4b25-a8be-0e39609752c2",
   "metadata": {},
   "outputs": [
    {
     "data": {
      "text/plain": [
       "(torch.Size([32, 10, 512]),\n",
       " torch.Size([32, 10, 512]),\n",
       " torch.Size([32, 10, 512]))"
      ]
     },
     "execution_count": 4,
     "metadata": {},
     "output_type": "execute_result"
    }
   ],
   "source": [
    "# Step 2: Linear Projections for Q, K, and V\n",
    "# Create 3 separate weight matrices for Query, Key, and Value, which will be learned.\n",
    "# Each of these weight matrices will have shape (d_model, d_model) for Q, K, V.\n",
    "\n",
    "W_q = nn.Linear(d_model, d_model)\n",
    "W_k = nn.Linear(d_model, d_model)\n",
    "W_v = nn.Linear(d_model, d_model)\n",
    "\n",
    "Q = W_q(input_tensor)  # Shape: (batch_size, seq_len, d_model)\n",
    "K = W_k(input_tensor)  # Shape: (batch_size, seq_len, d_model)\n",
    "V = W_v(input_tensor)  # Shape: (batch_size, seq_len, d_model)\n",
    "\n",
    "Q.shape, K.shape, V.shape"
   ]
  },
  {
   "cell_type": "markdown",
   "id": "0315a46e-35d9-48fc-8368-5debd22aaaa9",
   "metadata": {},
   "source": [
    "#### 3. Splitting into Heads\n",
    "To apply multi-head attention, we split the model dimension **d_model** into **num_heads** heads. Suppose we want **num_heads = 8** and **d_model = 512**, so each head will have a dimension of **d_head = d_model / num_heads = 512 / 8 = 64**.\n",
    "\n",
    "The matrices Q, K, and V are split into **num_heads** parts, resulting in each head having a dimension of **(batch_size, seq_len, d_head)**.\n",
    "\n",
    "For example:\n",
    "- Q, K, V shapes after splitting: **(32, 10, 64)** for each head.\n",
    "\n",
    "Now, we have **num_heads = 8** heads, so each head has a shape of **(32, 10, 64)**. For 8 heads, this becomes a shape of **(batch_size, num_heads, seq_len, d_head)**.\n",
    "\n",
    "For example:\n",
    "- Q, K, V for 8 heads: **(32, 8, 10, 64)**."
   ]
  },
  {
   "cell_type": "code",
   "execution_count": 5,
   "id": "0f7422dd-64a5-43b6-82f9-2f6d06254408",
   "metadata": {},
   "outputs": [
    {
     "data": {
      "text/plain": [
       "(torch.Size([32, 8, 10, 64]),\n",
       " torch.Size([32, 8, 10, 64]),\n",
       " torch.Size([32, 8, 10, 64]))"
      ]
     },
     "execution_count": 5,
     "metadata": {},
     "output_type": "execute_result"
    }
   ],
   "source": [
    "# Step 3: Splitting into Heads (num_heads = 8, d_head = 64)\n",
    "# Reshape Q, K, and V to split them into heads, which will have shape (batch_size, num_heads, seq_len, d_head).\n",
    "\n",
    "Q = Q.reshape(batch_size, seq_len, num_heads, d_head).permute(0, 2, 1, 3)  # Shape: (batch_size, num_heads, seq_len, d_head)\n",
    "K = K.reshape(batch_size, seq_len, num_heads, d_head).permute(0, 2, 1, 3)  # Shape: (batch_size, num_heads, seq_len, d_head)\n",
    "V = V.reshape(batch_size, seq_len, num_heads, d_head).permute(0, 2, 1, 3)  # Shape: (batch_size, num_heads, seq_len, d_head)\n",
    "\n",
    "Q.shape, K.shape, V.shape"
   ]
  },
  {
   "cell_type": "markdown",
   "id": "8596d643-d4bf-4bb7-bdc1-c1c663cebeba",
   "metadata": {},
   "source": [
    "#### 4. Scaled Dot-Product Attention\n",
    "Each head computes the scaled dot-product attention between the corresponding Query (Q) and Key (K) matrices. The result of this attention is a matrix of shape **(batch_size, num_heads, seq_len, seq_len)**.\n",
    "\n",
    "- The **Q** matrix has the shape **(batch_size, num_heads, seq_len, d_head)**, and the **K** matrix has the shape **(batch_size, num_heads, seq_len, d_head)**.\n",
    "- When performing the attention, we compute the dot product between each **Query** and **Key** for every position in the sequence. This results in a matrix of size **(batch_size, num_heads, seq_len, seq_len)**, where each **seq_len** in the rows corresponds to the attention of a query position, and the **seq_len** in the columns corresponds to the attention to all key positions.\n",
    "\n",
    "Thus, the output shape is **(batch_size, num_heads, seq_len, seq_len)**.\n",
    "\n",
    "For example:\n",
    "- Attention output for each head: **(32, 8, 10, 10)**."
   ]
  },
  {
   "cell_type": "code",
   "execution_count": 6,
   "id": "e2cffb48-0a80-4d52-88f1-40c1528465a5",
   "metadata": {},
   "outputs": [
    {
     "data": {
      "text/plain": [
       "torch.Size([32, 8, 10, 64])"
      ]
     },
     "execution_count": 6,
     "metadata": {},
     "output_type": "execute_result"
    }
   ],
   "source": [
    "# Step 4: Scaled Dot-Product Attention\n",
    "# Compute attention between Q and K and apply it to V.\n",
    "\n",
    "# Q and K have shape: (batch_size, num_heads, seq_len, d_head)\n",
    "# To compute attention, we take the dot product of Q and K transposed, then scale it by sqrt(d_head)\n",
    "attn_scores = torch.matmul(Q, K.transpose(-2, -1)) / d_head**0.5  # Shape: (batch_size, num_heads, seq_len, seq_len)\n",
    "\n",
    "# Apply softmax to get the attention weights (sum to 1 along the last dimension)\n",
    "attn_weights = F.softmax(attn_scores, dim=-1)  # Shape: (batch_size, num_heads, seq_len, seq_len)\n",
    "\n",
    "# Apply the attention weights to the Value matrix (V)\n",
    "attn_output = torch.matmul(attn_weights, V)  # Shape: (batch_size, num_heads, seq_len, d_head)\n",
    "\n",
    "attn_output.shape"
   ]
  },
  {
   "cell_type": "markdown",
   "id": "e71bcc9e-c5f3-48ad-a59b-dba9f8950446",
   "metadata": {},
   "source": [
    "#### 5. Concatenation of Heads\n",
    "After performing attention on each head, the results of all heads are concatenated. The resulting shape is **(batch_size, seq_len, d_model)**.\n",
    "\n",
    "For example, for 8 heads with **d_head = 64** each:\n",
    "- Concatenated output shape: **(32, 10, 512)**."
   ]
  },
  {
   "cell_type": "code",
   "execution_count": 7,
   "id": "a568b910-dc99-4162-b91d-1beeb5eef864",
   "metadata": {},
   "outputs": [
    {
     "data": {
      "text/plain": [
       "torch.Size([32, 10, 512])"
      ]
     },
     "execution_count": 7,
     "metadata": {},
     "output_type": "execute_result"
    }
   ],
   "source": [
    "# Step 5: Concatenate Heads\n",
    "# Concatenate the attention outputs from all heads along the last dimension.\n",
    "attn_output = attn_output.permute(0, 2, 1, 3).reshape(batch_size, seq_len, d_model)  # Shape: (batch_size, seq_len, d_model)\n",
    "\n",
    "attn_output.shape"
   ]
  },
  {
   "cell_type": "markdown",
   "id": "e9723208-da8f-476e-a50c-46ff691719ec",
   "metadata": {},
   "source": [
    "#### 6. Final Linear Projection\n",
    "The concatenated output is passed through a final linear layer to project it back into a **d_model**-dimensional space, which gives the final output shape as **(batch_size, seq_len, d_model)**.\n",
    "\n",
    "For example:\n",
    "- Final output shape: **(32, 10, 512)**."
   ]
  },
  {
   "cell_type": "code",
   "execution_count": 8,
   "id": "4b5d0d6e-fb93-48ed-b527-fe58a425d932",
   "metadata": {},
   "outputs": [
    {
     "data": {
      "text/plain": [
       "torch.Size([32, 10, 512])"
      ]
     },
     "execution_count": 8,
     "metadata": {},
     "output_type": "execute_result"
    }
   ],
   "source": [
    "# Step 6: Final Linear Projection\n",
    "# After concatenation, project the output back to the d_model dimension using a final linear layer\n",
    "\n",
    "W_o = nn.Linear(d_model, d_model)\n",
    "output = W_o(attn_output)  # Shape: (batch_size, seq_len, d_model)\n",
    "\n",
    "output.shape"
   ]
  },
  {
   "cell_type": "markdown",
   "id": "d9c6dc29-cd81-46fa-b816-57132142bb7c",
   "metadata": {},
   "source": [
    "#### Recap of Dimensions:\n",
    "- **Input**: **(32, 10, 512)**\n",
    "- **Q, K, V**: **(32, 10, 512)** (before splitting)\n",
    "- **Q, K, V per head**: **(32, 8, 10, 64)** (after splitting into 8 heads)\n",
    "- **Attention output**: **(32, 8, 10, 10)**\n",
    "- **Concatenated output**: **(32, 10, 512)**\n",
    "- **Final output**: **(32, 10, 512)**"
   ]
  },
  {
   "cell_type": "code",
   "execution_count": 9,
   "id": "5f3ab968-0ad3-474b-80dc-7bc59ee65209",
   "metadata": {},
   "outputs": [
    {
     "name": "stdout",
     "output_type": "stream",
     "text": [
      "Input shape: torch.Size([32, 10, 512])\n",
      "Q shape: torch.Size([32, 8, 10, 64])\n",
      "K shape: torch.Size([32, 8, 10, 64])\n",
      "V shape: torch.Size([32, 8, 10, 64])\n",
      "Attention scores shape: torch.Size([32, 8, 10, 10])\n",
      "Attention weights shape: torch.Size([32, 8, 10, 10])\n",
      "Attention output shape (after concatenation): torch.Size([32, 10, 512])\n",
      "Final output shape: torch.Size([32, 10, 512])\n"
     ]
    }
   ],
   "source": [
    "print(f\"Input shape: {input_tensor.shape}\")\n",
    "print(f\"Q shape: {Q.shape}\")\n",
    "print(f\"K shape: {K.shape}\")\n",
    "print(f\"V shape: {V.shape}\")\n",
    "print(f\"Attention scores shape: {attn_scores.shape}\")\n",
    "print(f\"Attention weights shape: {attn_weights.shape}\")\n",
    "print(f\"Attention output shape (after concatenation): {attn_output.shape}\")\n",
    "print(f\"Final output shape: {output.shape}\")"
   ]
  },
  {
   "cell_type": "markdown",
   "id": "c525abc0-f0f9-4ea4-bd28-1e26d508c2d9",
   "metadata": {},
   "source": [
    "### Class"
   ]
  },
  {
   "cell_type": "code",
   "execution_count": 10,
   "id": "eae170d4-9571-45ab-a9b3-3211242592ee",
   "metadata": {},
   "outputs": [],
   "source": [
    "class MultiHeadAttention(nn.Module):\n",
    "    def __init__(self, embed_dim=512, num_heads=8, dropout=0.1):\n",
    "        super().__init__()\n",
    "        self.embed_dim = embed_dim\n",
    "        self.num_heads = num_heads\n",
    "        self.head_dim = embed_dim // num_heads\n",
    "        \n",
    "        assert self.head_dim * num_heads == embed_dim, \"embed_dim must be divisible by num_heads\"\n",
    "        \n",
    "        # Linear projections for Q, K, V\n",
    "        self.q_linear = nn.Linear(embed_dim, embed_dim)\n",
    "        self.k_linear = nn.Linear(embed_dim, embed_dim)\n",
    "        self.v_linear = nn.Linear(embed_dim, embed_dim)\n",
    "        \n",
    "        # Final output projection\n",
    "        self.out_proj = nn.Linear(embed_dim, embed_dim)\n",
    "        self.dropout = nn.Dropout(dropout)\n",
    "        \n",
    "    def forward(self, query, key, value, mask=None, return_attention=False):\n",
    "        \"\"\"\n",
    "        Args:\n",
    "            query: Query tensor [batch_size, seq_len, embed_dim]\n",
    "            key: Key tensor [batch_size, seq_len, embed_dim]\n",
    "            value: Value tensor [batch_size, seq_len, embed_dim]\n",
    "            mask: Optional mask tensor for masked attention\n",
    "            return_attention: Whether to return attention weights\n",
    "        Returns:\n",
    "            output: Attention output [batch_size, seq_len, embed_dim]\n",
    "            attention_weights: (Optional) Attention weights\n",
    "        \"\"\"\n",
    "        batch_size = query.size(0) \n",
    "        seq_len = query.size(1)\n",
    "        \n",
    "        # Compute Q, K, V\n",
    "        q = self.q_linear(query)  # [batch_size, seq_len, embed_dim]\n",
    "        k = self.k_linear(key) # [batch_size, seq_len, embed_dim]\n",
    "        v = self.v_linear(value)  # [batch_size, seq_len, embed_dim]\n",
    "        \n",
    "        # Reshape for multi-head attention\n",
    "        # Split embed_dim into num_heads × head_dim\n",
    "        q = q.view(batch_size, seq_len, self.num_heads, self.head_dim).transpose(1, 2)\n",
    "        k = k.view(batch_size, seq_len, self.num_heads, self.head_dim).transpose(1, 2)\n",
    "        v = v.view(batch_size, seq_len, self.num_heads, self.head_dim).transpose(1, 2)\n",
    "        # q, k, v shapes: [batch_size, num_heads, seq_len, head_dim]\n",
    "        \n",
    "        # Calculate attention scores\n",
    "        attn_scores = torch.matmul(q, k.transpose(-2, -1))  # [batch_size, num_heads, seq_len, seq_len]\n",
    "        \n",
    "        # Scale attention scores\n",
    "        attn_scores = attn_scores / math.sqrt(self.head_dim)\n",
    "        \n",
    "        # Apply mask if provided\n",
    "        # mask shape: [batch_size, seq_len] or [batch_size, 1, seq_len] or [batch_size, seq_len, seq_len]\n",
    "        if mask is not None:\n",
    "            # Expand mask to match the attention scores dimensions\n",
    "            if mask.dim() == 2:\n",
    "                # [batch_size, seq_len] -> [batch_size, 1, 1, seq_len]\n",
    "                mask = mask.unsqueeze(1).unsqueeze(2)\n",
    "            elif mask.dim() == 3 and mask.size(1) == 1:\n",
    "                # [batch_size, 1, seq_len] -> [batch_size, 1, 1, seq_len]\n",
    "                mask = mask.unsqueeze(1)\n",
    "            elif mask.dim() == 3:\n",
    "                # [batch_size, seq_len, seq_len] -> [batch_size, 1, seq_len, seq_len]\n",
    "                mask = mask.unsqueeze(1)\n",
    "            \n",
    "            # Apply mask by setting masked positions to -inf before softmax\n",
    "            attn_scores = attn_scores.masked_fill(mask == 0, float('-inf')) # [batch_size, num_heads, seq_len, seq_len]\n",
    "        \n",
    "        # Apply softmax to get attention weights\n",
    "        attention_weights = F.softmax(attn_scores, dim=-1)  # [batch_size, num_heads, seq_len, seq_len]\n",
    "        attention_weights = self.dropout(attention_weights)\n",
    "        \n",
    "        # Apply attention weights to values\n",
    "        attn_output = torch.matmul(attention_weights, v)  # [batch_size, num_heads, seq_len, head_dim]\n",
    "        \n",
    "        # Reshape back to original dimension\n",
    "        attn_output = attn_output.transpose(1, 2).contiguous().view(batch_size, seq_len, self.embed_dim)\n",
    "        # attn_output shape: [batch_size, seq_len, embed_dim]\n",
    "        \n",
    "        # Final linear projection\n",
    "        output = self.out_proj(attn_output)  # [batch_size, seq_len, embed_dim]\n",
    "        \n",
    "        if return_attention:\n",
    "            return output, attention_weights\n",
    "        return output"
   ]
  },
  {
   "cell_type": "code",
   "execution_count": 11,
   "id": "e9f766e1-97a3-4fa9-8eab-506c97269167",
   "metadata": {},
   "outputs": [],
   "source": [
    "batch_size = 2\n",
    "seq_len = 5\n",
    "embed_dim = 512\n",
    "num_heads = 8"
   ]
  },
  {
   "cell_type": "code",
   "execution_count": 12,
   "id": "7bfb8e3b-e078-4153-bedc-65a7137484ff",
   "metadata": {},
   "outputs": [],
   "source": [
    "mha = MultiHeadAttention(embed_dim=embed_dim, num_heads=num_heads)\n",
    "\n",
    "# Input tensor\n",
    "x = torch.randn(batch_size, seq_len, embed_dim)"
   ]
  },
  {
   "cell_type": "markdown",
   "id": "a4f1f9e7-2547-442a-8e39-94522ae27dc3",
   "metadata": {},
   "source": [
    "### Example 1: Using Padding Mask\n",
    "\n",
    "Used to prevent attention to padding tokens in batched variable-length sequences\n",
    "- **Dimensions**: [batch_size, seq_len] = [2, 5]\n",
    "- **Values**: 1 for real tokens, 0 for padding tokens"
   ]
  },
  {
   "cell_type": "code",
   "execution_count": 13,
   "id": "60814566-1c4b-4346-9897-d0fe81652f4d",
   "metadata": {},
   "outputs": [
    {
     "data": {
      "text/plain": [
       "tensor([[True, True, True, True, True],\n",
       "        [True, True, True, True, True]])"
      ]
     },
     "execution_count": 13,
     "metadata": {},
     "output_type": "execute_result"
    }
   ],
   "source": [
    "# padding mask (1 for tokens to keep, 0 for padding tokens to mask)\n",
    "padding_mask = torch.ones(batch_size, seq_len, dtype=torch.bool)\n",
    "padding_mask"
   ]
  },
  {
   "cell_type": "code",
   "execution_count": 14,
   "id": "0fc8e3ed-df8d-4729-8e78-69568dbf684b",
   "metadata": {},
   "outputs": [
    {
     "data": {
      "text/plain": [
       "tensor([[ True,  True,  True,  True, False],\n",
       "        [ True,  True,  True, False, False]])"
      ]
     },
     "execution_count": 14,
     "metadata": {},
     "output_type": "execute_result"
    }
   ],
   "source": [
    "# First sequence has 4 valid tokens, second has 3\n",
    "padding_mask[0, 4] = 0  # Mask last position in first sequence\n",
    "padding_mask[1, 3:] = 0  # Mask last two positions in second sequence\n",
    "\n",
    "padding_mask"
   ]
  },
  {
   "cell_type": "code",
   "execution_count": 15,
   "id": "93b67689-1159-4237-897a-c49293691ea7",
   "metadata": {},
   "outputs": [
    {
     "data": {
      "image/png": "[encoded data removed]",
      "text/plain": [
       "<Figure size 1000x300 with 2 Axes>"
      ]
     },
     "metadata": {},
     "output_type": "display_data"
    }
   ],
   "source": [
    "# Visualize the padding mask\n",
    "fig, ax = plt.subplots(1, 2, figsize=(10, 3))\n",
    "for i in range(batch_size):\n",
    "    mask_np = padding_mask[i].int().numpy().reshape(1, -1)\n",
    "    ax[i].imshow(mask_np, cmap='binary', interpolation='none')\n",
    "    ax[i].set_title(f\"Sequence {i+1} Padding Mask\")\n",
    "    ax[i].set_yticks([])\n",
    "    ax[i].set_xticks(range(seq_len))\n",
    "    ax[i].set_xlabel(\"Sequence Position\")\n",
    "plt.tight_layout()\n",
    "plt.show()"
   ]
  },
  {
   "cell_type": "code",
   "execution_count": 16,
   "id": "9239b758-d149-448d-8c80-9520d0df6b30",
   "metadata": {
    "scrolled": true
   },
   "outputs": [
    {
     "name": "stdout",
     "output_type": "stream",
     "text": [
      "\n",
      "Multi-Head Attention Forward Pass with Padding Mask:\n",
      "\n",
      " Attention Weights:\n",
      "tensor([[[[0.3530, 0.2134, 0.3160, 0.2288, 0.0000],\n",
      "          [0.4236, 0.0000, 0.2284, 0.2353, 0.0000],\n",
      "          [0.2325, 0.2582, 0.2661, 0.3543, 0.0000],\n",
      "          [0.0000, 0.0000, 0.3035, 0.4107, 0.0000],\n",
      "          [0.4169, 0.2345, 0.2214, 0.2384, 0.0000]],\n",
      "\n",
      "         [[0.4721, 0.1246, 0.3224, 0.1919, 0.0000],\n",
      "          [0.2426, 0.4377, 0.2253, 0.2055, 0.0000],\n",
      "          [0.2896, 0.2427, 0.3929, 0.1859, 0.0000],\n",
      "          [0.2422, 0.3457, 0.2554, 0.2678, 0.0000],\n",
      "          [0.3366, 0.3192, 0.1673, 0.2881, 0.0000]],\n",
      "\n",
      "         [[0.0000, 0.1672, 0.2553, 0.3768, 0.0000],\n",
      "          [0.1764, 0.2204, 0.3707, 0.3436, 0.0000],\n",
      "          [0.0000, 0.1397, 0.3655, 0.3663, 0.0000],\n",
      "          [0.1944, 0.0000, 0.2132, 0.3025, 0.0000],\n",
      "          [0.3098, 0.2585, 0.3343, 0.2085, 0.0000]],\n",
      "\n",
      "         [[0.4220, 0.1968, 0.2224, 0.2699, 0.0000],\n",
      "          [0.2770, 0.2666, 0.2717, 0.2958, 0.0000],\n",
      "          [0.4363, 0.2314, 0.1886, 0.2548, 0.0000],\n",
      "          [0.2138, 0.2210, 0.5262, 0.1501, 0.0000],\n",
      "          [0.2583, 0.1887, 0.4456, 0.2185, 0.0000]],\n",
      "\n",
      "         [[0.2331, 0.3422, 0.0000, 0.2846, 0.0000],\n",
      "          [0.4573, 0.1948, 0.3205, 0.1385, 0.0000],\n",
      "          [0.1951, 0.2522, 0.2558, 0.4080, 0.0000],\n",
      "          [0.0000, 0.2041, 0.2584, 0.1413, 0.0000],\n",
      "          [0.2816, 0.3730, 0.1970, 0.2595, 0.0000]],\n",
      "\n",
      "         [[0.1231, 0.2325, 0.2249, 0.5306, 0.0000],\n",
      "          [0.2582, 0.2377, 0.2696, 0.3456, 0.0000],\n",
      "          [0.2717, 0.1725, 0.0000, 0.4080, 0.0000],\n",
      "          [0.3240, 0.2719, 0.2914, 0.2238, 0.0000],\n",
      "          [0.2060, 0.3204, 0.2045, 0.3802, 0.0000]],\n",
      "\n",
      "         [[0.1817, 0.3194, 0.3395, 0.0000, 0.0000],\n",
      "          [0.3087, 0.4641, 0.1579, 0.0000, 0.0000],\n",
      "          [0.2888, 0.3808, 0.1933, 0.2482, 0.0000],\n",
      "          [0.3458, 0.2897, 0.2302, 0.0000, 0.0000],\n",
      "          [0.2242, 0.2224, 0.3708, 0.2937, 0.0000]],\n",
      "\n",
      "         [[0.2701, 0.2902, 0.3407, 0.2102, 0.0000],\n",
      "          [0.2423, 0.2139, 0.2540, 0.4010, 0.0000],\n",
      "          [0.3846, 0.2590, 0.1943, 0.2733, 0.0000],\n",
      "          [0.2076, 0.3214, 0.2358, 0.3464, 0.0000],\n",
      "          [0.2528, 0.1752, 0.2197, 0.4634, 0.0000]]],\n",
      "\n",
      "\n",
      "        [[[0.4877, 0.3132, 0.3102, 0.0000, 0.0000],\n",
      "          [0.2482, 0.4657, 0.3971, 0.0000, 0.0000],\n",
      "          [0.3799, 0.2358, 0.4954, 0.0000, 0.0000],\n",
      "          [0.2855, 0.5237, 0.3019, 0.0000, 0.0000],\n",
      "          [0.2545, 0.4585, 0.3981, 0.0000, 0.0000]],\n",
      "\n",
      "         [[0.0000, 0.5560, 0.3658, 0.0000, 0.0000],\n",
      "          [0.4598, 0.2225, 0.4288, 0.0000, 0.0000],\n",
      "          [0.2929, 0.4119, 0.4064, 0.0000, 0.0000],\n",
      "          [0.5589, 0.2010, 0.0000, 0.0000, 0.0000],\n",
      "          [0.2659, 0.4433, 0.4019, 0.0000, 0.0000]],\n",
      "\n",
      "         [[0.4084, 0.3883, 0.3144, 0.0000, 0.0000],\n",
      "          [0.0000, 0.3512, 0.4165, 0.0000, 0.0000],\n",
      "          [0.5156, 0.2195, 0.0000, 0.0000, 0.0000],\n",
      "          [0.5374, 0.3017, 0.0000, 0.0000, 0.0000],\n",
      "          [0.3162, 0.3452, 0.4497, 0.0000, 0.0000]],\n",
      "\n",
      "         [[0.5855, 0.2541, 0.2715, 0.0000, 0.0000],\n",
      "          [0.4522, 0.3076, 0.3513, 0.0000, 0.0000],\n",
      "          [0.2947, 0.4529, 0.3635, 0.0000, 0.0000],\n",
      "          [0.4378, 0.3384, 0.3349, 0.0000, 0.0000],\n",
      "          [0.3499, 0.5152, 0.0000, 0.0000, 0.0000]],\n",
      "\n",
      "         [[0.0000, 0.2499, 0.3883, 0.0000, 0.0000],\n",
      "          [0.2879, 0.2699, 0.5533, 0.0000, 0.0000],\n",
      "          [0.3667, 0.3914, 0.3531, 0.0000, 0.0000],\n",
      "          [0.4882, 0.3152, 0.3077, 0.0000, 0.0000],\n",
      "          [0.6638, 0.2389, 0.2084, 0.0000, 0.0000]],\n",
      "\n",
      "         [[0.2763, 0.4930, 0.3417, 0.0000, 0.0000],\n",
      "          [0.2458, 0.4736, 0.3917, 0.0000, 0.0000],\n",
      "          [0.2259, 0.4657, 0.4195, 0.0000, 0.0000],\n",
      "          [0.4145, 0.2393, 0.4573, 0.0000, 0.0000],\n",
      "          [0.1853, 0.2264, 0.6994, 0.0000, 0.0000]],\n",
      "\n",
      "         [[0.2186, 0.3604, 0.5321, 0.0000, 0.0000],\n",
      "          [0.2238, 0.5710, 0.3163, 0.0000, 0.0000],\n",
      "          [0.3259, 0.2826, 0.5025, 0.0000, 0.0000],\n",
      "          [0.3927, 0.4193, 0.2992, 0.0000, 0.0000],\n",
      "          [0.2483, 0.4917, 0.3711, 0.0000, 0.0000]],\n",
      "\n",
      "         [[0.3760, 0.2488, 0.4864, 0.0000, 0.0000],\n",
      "          [0.4596, 0.3693, 0.2821, 0.0000, 0.0000],\n",
      "          [0.3066, 0.3748, 0.4297, 0.0000, 0.0000],\n",
      "          [0.3395, 0.3446, 0.4270, 0.0000, 0.0000],\n",
      "          [0.2349, 0.5543, 0.3219, 0.0000, 0.0000]]]], grad_fn=<MulBackward0>)\n",
      "\n",
      " Attention Output:\n",
      "tensor([[[ 0.3551,  0.2422, -0.0623,  ..., -0.0896, -0.1137,  0.1939],\n",
      "         [ 0.3720,  0.3571,  0.1038,  ...,  0.0060, -0.2716,  0.1611],\n",
      "         [ 0.3884,  0.1465, -0.0800,  ..., -0.0761, -0.1800,  0.2482],\n",
      "         [ 0.2242,  0.2500, -0.0551,  ..., -0.0101, -0.1108,  0.1540],\n",
      "         [ 0.3548,  0.2133,  0.0653,  ..., -0.0662, -0.1646,  0.1533]],\n",
      "\n",
      "        [[-0.0824,  0.0615,  0.1247,  ...,  0.0156, -0.0423, -0.5305],\n",
      "         [-0.0699, -0.0683,  0.0012,  ...,  0.0186, -0.2401, -0.5405],\n",
      "         [-0.1525,  0.0921,  0.0106,  ..., -0.0372, -0.1547, -0.5615],\n",
      "         [-0.2660,  0.1723, -0.1334,  ..., -0.0763, -0.1898, -0.4996],\n",
      "         [-0.1924,  0.1366, -0.0011,  ..., -0.1199, -0.2500, -0.6132]]],\n",
      "       grad_fn=<ViewBackward0>)\n"
     ]
    }
   ],
   "source": [
    "# Forward pass with padding mask\n",
    "print(\"\\nMulti-Head Attention Forward Pass with Padding Mask:\")\n",
    "output1, attn_weights1 = mha(x, x, x, mask=padding_mask, return_attention=True)\n",
    "\n",
    "print(\"\\n Attention Weights:\")\n",
    "print(attn_weights1)\n",
    "\n",
    "print(\"\\n Attention Output:\")\n",
    "print(output1)"
   ]
  },
  {
   "cell_type": "markdown",
   "id": "00028abd-4726-4efb-b857-115da398313d",
   "metadata": {},
   "source": [
    "### Example 2: Using Causal Mask\n",
    "\n",
    "Used in decoder self-attention to prevent attending to future tokens\n",
    "- **Dimensions**: 1, seq_len, seq_len] = [1, 5, 5]\n",
    "- **Values**: Lower triangular matrix of 1s (tokens can only attend to previous positions)"
   ]
  },
  {
   "cell_type": "code",
   "execution_count": 17,
   "id": "13a3259e-b871-4753-8ff7-340e02526961",
   "metadata": {},
   "outputs": [
    {
     "name": "stdout",
     "output_type": "stream",
     "text": [
      "torch.Size([1, 5, 5]) \n",
      "\n"
     ]
    },
    {
     "data": {
      "text/plain": [
       "tensor([[[1., 0., 0., 0., 0.],\n",
       "         [1., 1., 0., 0., 0.],\n",
       "         [1., 1., 1., 0., 0.],\n",
       "         [1., 1., 1., 1., 0.],\n",
       "         [1., 1., 1., 1., 1.]]])"
      ]
     },
     "execution_count": 17,
     "metadata": {},
     "output_type": "execute_result"
    }
   ],
   "source": [
    "# causal mask (for autoregressive/decoder attention)\n",
    "causal_mask = torch.tril(torch.ones(seq_len, seq_len)).unsqueeze(0)\n",
    "print(causal_mask.shape, '\\n')\n",
    "\n",
    "causal_mask"
   ]
  },
  {
   "cell_type": "code",
   "execution_count": 18,
   "id": "b20028e9-b548-4a5e-ada0-83f27961f822",
   "metadata": {},
   "outputs": [
    {
     "data": {
      "image/png": "[encoded data removed]",
      "text/plain": [
       "<Figure size 500x400 with 2 Axes>"
      ]
     },
     "metadata": {},
     "output_type": "display_data"
    }
   ],
   "source": [
    "# Visualize the causal mask\n",
    "plt.figure(figsize=(5, 4))\n",
    "plt.imshow(causal_mask[0].numpy(), cmap='binary')\n",
    "plt.title(\"Causal/Autoregressive Mask\")\n",
    "plt.xlabel(\"Key Position\")\n",
    "plt.ylabel(\"Query Position\")\n",
    "plt.colorbar(label=\"Mask Value\")\n",
    "plt.tight_layout()\n",
    "plt.show()"
   ]
  },
  {
   "cell_type": "code",
   "execution_count": 19,
   "id": "475eb0c6-4df6-4ffa-b334-42dec79ebc06",
   "metadata": {
    "scrolled": true
   },
   "outputs": [
    {
     "name": "stdout",
     "output_type": "stream",
     "text": [
      "\n",
      "Multi-Head Attention Forward Pass with Causal Mask:\n",
      "\n",
      " Attention Weights:\n",
      "tensor([[[[1.1111, 0.0000, 0.0000, 0.0000, 0.0000],\n",
      "          [0.7269, 0.3843, 0.0000, 0.0000, 0.0000],\n",
      "          [0.3414, 0.3791, 0.3907, 0.0000, 0.0000],\n",
      "          [0.0000, 0.2375, 0.3035, 0.4107, 0.0000],\n",
      "          [0.3401, 0.1913, 0.1806, 0.1944, 0.2047]],\n",
      "\n",
      "         [[1.1111, 0.0000, 0.0000, 0.0000, 0.0000],\n",
      "          [0.3962, 0.7149, 0.0000, 0.0000, 0.0000],\n",
      "          [0.3478, 0.2915, 0.4718, 0.0000, 0.0000],\n",
      "          [0.2422, 0.3457, 0.2554, 0.2678, 0.0000],\n",
      "          [0.2747, 0.2605, 0.1365, 0.2351, 0.2042]],\n",
      "\n",
      "         [[1.1111, 0.0000, 0.0000, 0.0000, 0.0000],\n",
      "          [0.4939, 0.6172, 0.0000, 0.0000, 0.0000],\n",
      "          [0.3575, 0.2084, 0.5453, 0.0000, 0.0000],\n",
      "          [0.1944, 0.4010, 0.2132, 0.0000, 0.0000],\n",
      "          [0.2127, 0.1775, 0.2296, 0.1432, 0.3480]],\n",
      "\n",
      "         [[1.1111, 0.0000, 0.0000, 0.0000, 0.0000],\n",
      "          [0.5662, 0.5449, 0.0000, 0.0000, 0.0000],\n",
      "          [0.5662, 0.0000, 0.2447, 0.0000, 0.0000],\n",
      "          [0.2138, 0.2210, 0.5262, 0.1501, 0.0000],\n",
      "          [0.1882, 0.1375, 0.3248, 0.1593, 0.3012]],\n",
      "\n",
      "         [[1.1111, 0.0000, 0.0000, 0.0000, 0.0000],\n",
      "          [0.7792, 0.3320, 0.0000, 0.0000, 0.0000],\n",
      "          [0.0000, 0.3986, 0.4043, 0.0000, 0.0000],\n",
      "          [0.5073, 0.2041, 0.2584, 0.1413, 0.0000],\n",
      "          [0.1827, 0.2421, 0.1279, 0.1684, 0.3900]],\n",
      "\n",
      "         [[1.1111, 0.0000, 0.0000, 0.0000, 0.0000],\n",
      "          [0.5786, 0.5325, 0.0000, 0.0000, 0.0000],\n",
      "          [0.4293, 0.2726, 0.4092, 0.0000, 0.0000],\n",
      "          [0.0000, 0.2719, 0.2914, 0.2238, 0.0000],\n",
      "          [0.1725, 0.2683, 0.1712, 0.3184, 0.1806]],\n",
      "\n",
      "         [[1.1111, 0.0000, 0.0000, 0.0000, 0.0000],\n",
      "          [0.4439, 0.6672, 0.0000, 0.0000, 0.0000],\n",
      "          [0.3719, 0.4903, 0.2489, 0.0000, 0.0000],\n",
      "          [0.3458, 0.2897, 0.2302, 0.2454, 0.0000],\n",
      "          [0.1835, 0.1820, 0.3035, 0.2404, 0.2017]],\n",
      "\n",
      "         [[1.1111, 0.0000, 0.0000, 0.0000, 0.0000],\n",
      "          [0.5901, 0.0000, 0.0000, 0.0000, 0.0000],\n",
      "          [0.5100, 0.3435, 0.2576, 0.0000, 0.0000],\n",
      "          [0.2076, 0.3214, 0.2358, 0.3464, 0.0000],\n",
      "          [0.1786, 0.1238, 0.1552, 0.3274, 0.3261]]],\n",
      "\n",
      "\n",
      "        [[[1.1111, 0.0000, 0.0000, 0.0000, 0.0000],\n",
      "          [0.3863, 0.7248, 0.0000, 0.0000, 0.0000],\n",
      "          [0.3799, 0.2358, 0.4954, 0.0000, 0.0000],\n",
      "          [0.2206, 0.4047, 0.2333, 0.2526, 0.0000],\n",
      "          [0.1590, 0.2865, 0.2488, 0.2105, 0.2063]],\n",
      "\n",
      "         [[1.1111, 0.0000, 0.0000, 0.0000, 0.0000],\n",
      "          [0.7487, 0.3624, 0.0000, 0.0000, 0.0000],\n",
      "          [0.2929, 0.4119, 0.4064, 0.0000, 0.0000],\n",
      "          [0.4571, 0.1644, 0.2872, 0.2025, 0.0000],\n",
      "          [0.1705, 0.2842, 0.2576, 0.1725, 0.2263]],\n",
      "\n",
      "         [[1.1111, 0.0000, 0.0000, 0.0000, 0.0000],\n",
      "          [0.5494, 0.5618, 0.0000, 0.0000, 0.0000],\n",
      "          [0.5156, 0.2195, 0.3760, 0.0000, 0.0000],\n",
      "          [0.4086, 0.2294, 0.2068, 0.0000, 0.0000],\n",
      "          [0.2041, 0.2229, 0.2903, 0.2261, 0.1677]],\n",
      "\n",
      "         [[1.1111, 0.0000, 0.0000, 0.0000, 0.0000],\n",
      "          [0.6613, 0.4498, 0.0000, 0.0000, 0.0000],\n",
      "          [0.2947, 0.4529, 0.3635, 0.0000, 0.0000],\n",
      "          [0.2962, 0.2290, 0.2266, 0.3593, 0.0000],\n",
      "          [0.2398, 0.3531, 0.1686, 0.1784, 0.1712]],\n",
      "\n",
      "         [[1.1111, 0.0000, 0.0000, 0.0000, 0.0000],\n",
      "          [0.5735, 0.5376, 0.0000, 0.0000, 0.0000],\n",
      "          [0.3667, 0.3914, 0.3531, 0.0000, 0.0000],\n",
      "          [0.0000, 0.2310, 0.2255, 0.2968, 0.0000],\n",
      "          [0.4162, 0.0000, 0.1306, 0.1863, 0.2282]],\n",
      "\n",
      "         [[1.1111, 0.0000, 0.0000, 0.0000, 0.0000],\n",
      "          [0.3796, 0.7315, 0.0000, 0.0000, 0.0000],\n",
      "          [0.2259, 0.4657, 0.4195, 0.0000, 0.0000],\n",
      "          [0.3096, 0.1787, 0.3415, 0.2812, 0.0000],\n",
      "          [0.1345, 0.1644, 0.0000, 0.1655, 0.1390]],\n",
      "\n",
      "         [[1.1111, 0.0000, 0.0000, 0.0000, 0.0000],\n",
      "          [0.3128, 0.7983, 0.0000, 0.0000, 0.0000],\n",
      "          [0.3259, 0.2826, 0.5025, 0.0000, 0.0000],\n",
      "          [0.3264, 0.3486, 0.2487, 0.0000, 0.0000],\n",
      "          [0.1357, 0.2688, 0.2029, 0.1483, 0.0000]],\n",
      "\n",
      "         [[0.0000, 0.0000, 0.0000, 0.0000, 0.0000],\n",
      "          [0.6161, 0.4950, 0.0000, 0.0000, 0.0000],\n",
      "          [0.3066, 0.0000, 0.4297, 0.0000, 0.0000],\n",
      "          [0.2174, 0.0000, 0.2734, 0.3998, 0.0000],\n",
      "          [0.1632, 0.3852, 0.2237, 0.1431, 0.1960]]]], grad_fn=<MulBackward0>)\n",
      "\n",
      " Attention Output:\n",
      "tensor([[[ 0.2325, -0.2389,  0.2090,  ..., -0.0047, -0.1892,  0.0843],\n",
      "         [ 0.6327,  0.2517,  0.2340,  ..., -0.0695, -0.1870,  0.0283],\n",
      "         [ 0.3612, -0.0205,  0.0308,  ..., -0.0640,  0.0192, -0.0617],\n",
      "         [ 0.3161,  0.2589, -0.0465,  ...,  0.0609, -0.2459,  0.1430],\n",
      "         [ 0.3453, -0.0531,  0.0016,  ..., -0.1974, -0.0788, -0.0204]],\n",
      "\n",
      "        [[-0.2751,  0.4104, -0.0282,  ..., -0.0365,  0.1146, -0.4859],\n",
      "         [-0.2463,  0.2372, -0.0844,  ...,  0.2185, -0.0350, -0.4757],\n",
      "         [-0.0420,  0.0461,  0.0069,  ..., -0.1595, -0.1944, -0.5622],\n",
      "         [-0.1125,  0.0329, -0.1181,  ..., -0.4147, -0.1494, -0.4680],\n",
      "         [-0.2190,  0.2309,  0.2063,  ..., -0.1759, -0.0562, -0.2940]]],\n",
      "       grad_fn=<ViewBackward0>)\n"
     ]
    }
   ],
   "source": [
    "# Forward pass with causal mask\n",
    "print(\"\\nMulti-Head Attention Forward Pass with Causal Mask:\")\n",
    "output2, attn_weights2 = mha(x, x, x, mask=causal_mask, return_attention=True)\n",
    "\n",
    "print(\"\\n Attention Weights:\")\n",
    "print(attn_weights2)\n",
    "\n",
    "print(\"\\n Attention Output:\")\n",
    "print(output2)"
   ]
  },
  {
   "cell_type": "markdown",
   "id": "fe8d4a8e-d0ed-4dce-b6f8-f71b7b65dd43",
   "metadata": {},
   "source": [
    "### Attention Pattern Visualization"
   ]
  },
  {
   "cell_type": "code",
   "execution_count": 20,
   "id": "f37d0a5d-8e4b-43ef-93e1-3f65a7d3ad8a",
   "metadata": {},
   "outputs": [],
   "source": [
    "def plot_attention_patterns(attention_weights, titles):\n",
    "    \"\"\"Plot attention patterns from multiple attention heads.\"\"\"\n",
    "    fig, axes = plt.subplots(2, 4, figsize=(15, 6))\n",
    "    axes = axes.flatten()\n",
    "    \n",
    "    # Get the first sequence from the batch\n",
    "    seq_attention = attention_weights[0]  # [num_heads, seq_len, seq_len]\n",
    "    \n",
    "    for h in range(num_heads):\n",
    "        ax = axes[h]\n",
    "        att = seq_attention[h].detach().numpy()\n",
    "        im = ax.imshow(att, cmap='viridis')\n",
    "        ax.set_title(f\"{titles} - Head {h+1}\")\n",
    "        ax.set_xlabel(\"Key Position\")\n",
    "        ax.set_ylabel(\"Query Position\")\n",
    "    \n",
    "    fig.colorbar(im, ax=axes.ravel().tolist())\n",
    "    plt.tight_layout()\n",
    "    plt.show()"
   ]
  },
  {
   "cell_type": "code",
   "execution_count": 21,
   "id": "610442b6-45f9-469f-b12d-55d38b99fb8b",
   "metadata": {},
   "outputs": [
    {
     "name": "stderr",
     "output_type": "stream",
     "text": [
      "C:\\Users\\uzair\\AppData\\Local\\Temp\\ipykernel_28444\\4282585730.py:18: UserWarning: This figure includes Axes that are not compatible with tight_layout, so results might be incorrect.\n",
      "  plt.tight_layout()\n"
     ]
    },
    {
     "data": {
      "image/png": "[encoded data removed]",
      "text/plain": [
       "<Figure size 1500x600 with 9 Axes>"
      ]
     },
     "metadata": {},
     "output_type": "display_data"
    }
   ],
   "source": [
    "plot_attention_patterns(attn_weights1, \"Padding Mask\")"
   ]
  },
  {
   "cell_type": "code",
   "execution_count": 22,
   "id": "65bb39fe-29ef-46ba-929c-4ce777401411",
   "metadata": {},
   "outputs": [
    {
     "name": "stderr",
     "output_type": "stream",
     "text": [
      "C:\\Users\\uzair\\AppData\\Local\\Temp\\ipykernel_28444\\4282585730.py:18: UserWarning: This figure includes Axes that are not compatible with tight_layout, so results might be incorrect.\n",
      "  plt.tight_layout()\n"
     ]
    },
    {
     "data": {
      "image/png": "[encoded data removed]",
      "text/plain": [
       "<Figure size 1500x600 with 9 Axes>"
      ]
     },
     "metadata": {},
     "output_type": "display_data"
    }
   ],
   "source": [
    "plot_attention_patterns(attn_weights2, \"Causal Mask\")"
   ]
  },
  {
   "cell_type": "code",
   "execution_count": null,
   "id": "5cc58188-894a-4563-9e06-9b96ac0ddebf",
   "metadata": {},
   "outputs": [],
   "source": []
  }
 ],
 "metadata": {
  "kernelspec": {
   "display_name": "Python 3 (ipykernel)",
   "language": "python",
   "name": "python3"
  },
  "language_info": {
   "codemirror_mode": {
    "name": "ipython",
    "version": 3
   },
   "file_extension": ".py",
   "mimetype": "text/x-python",
   "name": "python",
   "nbconvert_exporter": "python",
   "pygments_lexer": "ipython3",
   "version": "3.10.11"
  }
 },
 "nbformat": 4,
 "nbformat_minor": 5
}
