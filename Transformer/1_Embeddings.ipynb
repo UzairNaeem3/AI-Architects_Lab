{
 "cells": [
  {
   "cell_type": "markdown",
   "id": "7aee4505-0fda-4464-bc62-5e3226583fd0",
   "metadata": {},
   "source": [
    "### Create Word Embeddings\n",
    "\n",
    "First of all we need to convert each word in the input sequence to an embedding vector. Embedding vectors will create a more semantic representation of each word.\n",
    "\n",
    "Suppoese each embedding vector is of **`512`** dimension and suppose our vocab size is **`100`**, then our embedding matrix will be of size **`100x512`**. These marix will be learned on training and during inference each word will be mapped to corresponding **`512 d`** vector. Suppose we have batch size of **`32`** and sequence length of **`10`**(10 words). The the output will be **`32x10x512`**."
   ]
  },
  {
   "cell_type": "code",
   "execution_count": 8,
   "id": "3720ed99-d7f5-4565-adf1-1745659e5719",
   "metadata": {},
   "outputs": [],
   "source": [
    "import torch\n",
    "import torch.nn as nn\n",
    "import math"
   ]
  },
  {
   "cell_type": "code",
   "execution_count": 9,
   "id": "2c9ee217-7eb6-4cf9-84e8-3ca9bc6b6e6f",
   "metadata": {},
   "outputs": [],
   "source": [
    "class Embedding(nn.Module):\n",
    "    def __init__(self, vocab_size, embed_dim):\n",
    "        \"\"\"\n",
    "        Args:\n",
    "            vocab_size: size of vocabulary\n",
    "            embed_dim: dimension of embeddings\n",
    "        \"\"\"\n",
    "        super().__init__()\n",
    "        self.embed = nn.Embedding(num_embeddings=vocab_size, embedding_dim=embed_dim) # Embedding layer\n",
    "        self.embed_dim = embed_dim\n",
    "\n",
    "        # Initialize weights to improve training\n",
    "        self.init_weights()\n",
    "        \n",
    "    def init_weights(self):\n",
    "        \"\"\"Initialize embedding weights using normal distribution with small standard deviation\"\"\"\n",
    "        nn.init.normal_(self.embed.weight, mean=0, std=0.02)\n",
    "\n",
    "    def forward(self, x):\n",
    "        \"\"\"\n",
    "        Args:\n",
    "            x: Input token indices [batch_size, seq_len]\n",
    "        Returns:\n",
    "            embeddings: Token embeddings [batch_size, seq_len, embed_dim]\n",
    "        \"\"\"\n",
    "        # Scale embeddings by sqrt(embed_dim) to stabilize gradients\n",
    "        return self.embed(x) * math.sqrt(self.embed_dim)"
   ]
  },
  {
   "cell_type": "code",
   "execution_count": 10,
   "id": "af02dc3c-8aa1-4322-bea2-6f2fe7a94b94",
   "metadata": {},
   "outputs": [],
   "source": [
    "vocab_size = 10  # Assume we have 10 words in our vocabulary\n",
    "embed_dim = 5    # Each word is embedded into a 5-dimensional vector\n",
    "embeddings = Embedding(vocab_size, embed_dim)"
   ]
  },
  {
   "cell_type": "code",
   "execution_count": 11,
   "id": "833c2012-92da-4aa0-9f6f-692e9ab083d9",
   "metadata": {},
   "outputs": [
    {
     "data": {
      "text/plain": [
       "tensor([[ 0.0305,  0.0706, -0.0064,  0.0622,  0.0453],\n",
       "        [ 0.0268, -0.0597,  0.0250,  0.0363,  0.0740],\n",
       "        [-0.0341, -0.0302, -0.0716, -0.0086,  0.0105]], grad_fn=<MulBackward0>)"
      ]
     },
     "execution_count": 11,
     "metadata": {},
     "output_type": "execute_result"
    }
   ],
   "source": [
    "# Create a sample input (batch of token indices)\n",
    "sample_input = torch.tensor([1, 3, 7])  # Example token indices\n",
    "\n",
    "# Get embeddings\n",
    "output = embeddings(sample_input)\n",
    "output"
   ]
  },
  {
   "cell_type": "code",
   "execution_count": 12,
   "id": "e4eef4e5-60c6-423a-bdc0-75e3fd8750f4",
   "metadata": {},
   "outputs": [
    {
     "data": {
      "text/plain": [
       "torch.Size([3, 5])"
      ]
     },
     "execution_count": 12,
     "metadata": {},
     "output_type": "execute_result"
    }
   ],
   "source": [
    "output.shape"
   ]
  },
  {
   "cell_type": "code",
   "execution_count": null,
   "id": "bd6a3dc2-00db-4e65-9069-b136482cdb91",
   "metadata": {},
   "outputs": [],
   "source": []
  }
 ],
 "metadata": {
  "kernelspec": {
   "display_name": "Python 3 (ipykernel)",
   "language": "python",
   "name": "python3"
  },
  "language_info": {
   "codemirror_mode": {
    "name": "ipython",
    "version": 3
   },
   "file_extension": ".py",
   "mimetype": "text/x-python",
   "name": "python",
   "nbconvert_exporter": "python",
   "pygments_lexer": "ipython3",
   "version": "3.10.11"
  }
 },
 "nbformat": 4,
 "nbformat_minor": 5
}
