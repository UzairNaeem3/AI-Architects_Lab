{
 "cells": [
  {
   "cell_type": "markdown",
   "id": "7aee4505-0fda-4464-bc62-5e3226583fd0",
   "metadata": {},
   "source": [
    "### Create Word Embeddings\n",
    "\n",
    "First of all we need to convert each word in the input sequence to an embedding vector. Embedding vectors will create a more semantic representation of each word.\n",
    "\n",
    "Suppoese each embedding vector is of **`512`** dimension and suppose our vocab size is **`100`**, then our embedding matrix will be of size **`100x512`**. These marix will be learned on training and during inference each word will be mapped to corresponding **`512 d`** vector. Suppose we have batch size of **`32`** and sequence length of **`10`**(10 words). The the output will be **`32x10x512`**."
   ]
  },
  {
   "cell_type": "code",
   "execution_count": 2,
   "id": "3720ed99-d7f5-4565-adf1-1745659e5719",
   "metadata": {},
   "outputs": [],
   "source": [
    "import torch\n",
    "import torch.nn as nn"
   ]
  },
  {
   "cell_type": "code",
   "execution_count": 3,
   "id": "2c9ee217-7eb6-4cf9-84e8-3ca9bc6b6e6f",
   "metadata": {},
   "outputs": [],
   "source": [
    "class Embedding(nn.Module):\n",
    "    def __init__(self, vocab_size, embed_dim):\n",
    "        \"\"\"\n",
    "        Args:\n",
    "            vocab_size: size of vocabulary\n",
    "            embed_dim: dimension of embeddings\n",
    "        \"\"\"\n",
    "        super().__init__()\n",
    "        self.embed = nn.Embedding(num_embeddings=vocab_size, embedding_dim=embed_dim) # Embedding layer\n",
    "\n",
    "    def forward(self, x):\n",
    "        \"\"\"\n",
    "        Args:\n",
    "            x: input\n",
    "        Returns:\n",
    "            out: embedding vector\n",
    "        \"\"\"\n",
    "        out = self.embed(x) # Convert token indices to dense vectors\n",
    "        return out"
   ]
  },
  {
   "cell_type": "code",
   "execution_count": 4,
   "id": "af02dc3c-8aa1-4322-bea2-6f2fe7a94b94",
   "metadata": {},
   "outputs": [],
   "source": [
    "vocab_size = 10  # Assume we have 10 words in our vocabulary\n",
    "embed_dim = 5    # Each word is embedded into a 5-dimensional vector\n",
    "embeddings = Embedding(vocab_size, embed_dim)"
   ]
  },
  {
   "cell_type": "code",
   "execution_count": 9,
   "id": "833c2012-92da-4aa0-9f6f-692e9ab083d9",
   "metadata": {},
   "outputs": [
    {
     "data": {
      "text/plain": [
       "tensor([[-0.1667,  1.3110,  0.5141,  0.3984,  0.9671],\n",
       "        [-0.5384,  1.1861, -0.2256,  0.5444, -1.4291],\n",
       "        [ 0.9302,  0.7904, -1.4920,  1.0415, -1.1608]],\n",
       "       grad_fn=<EmbeddingBackward0>)"
      ]
     },
     "execution_count": 9,
     "metadata": {},
     "output_type": "execute_result"
    }
   ],
   "source": [
    "# Create a sample input (batch of token indices)\n",
    "sample_input = torch.tensor([1, 3, 7])  # Example token indices\n",
    "\n",
    "# Get embeddings\n",
    "output = embeddings(sample_input)\n",
    "output"
   ]
  },
  {
   "cell_type": "code",
   "execution_count": 10,
   "id": "e4eef4e5-60c6-423a-bdc0-75e3fd8750f4",
   "metadata": {},
   "outputs": [
    {
     "data": {
      "text/plain": [
       "torch.Size([3, 5])"
      ]
     },
     "execution_count": 10,
     "metadata": {},
     "output_type": "execute_result"
    }
   ],
   "source": [
    "output.shape"
   ]
  },
  {
   "cell_type": "code",
   "execution_count": null,
   "id": "3784415f-42a3-486b-9e1a-603c66a4db5e",
   "metadata": {},
   "outputs": [],
   "source": []
  }
 ],
 "metadata": {
  "kernelspec": {
   "display_name": "Python 3 (ipykernel)",
   "language": "python",
   "name": "python3"
  },
  "language_info": {
   "codemirror_mode": {
    "name": "ipython",
    "version": 3
   },
   "file_extension": ".py",
   "mimetype": "text/x-python",
   "name": "python",
   "nbconvert_exporter": "python",
   "pygments_lexer": "ipython3",
   "version": "3.10.11"
  }
 },
 "nbformat": 4,
 "nbformat_minor": 5
}
