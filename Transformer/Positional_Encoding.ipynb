{
 "cells": [
  {
   "cell_type": "markdown",
   "id": "b5d657ea-4141-429f-b54c-fc0d69eab4df",
   "metadata": {},
   "source": [
    "### Positional Encoding\n",
    "\n",
    "In order for the model to make sense of the sentence, it needs to know two things about each word.\n",
    "\n",
    "* What does the word mean.\n",
    "* What is the position of the word in the sentence.\n",
    "\n",
    "In `attention is all you need paper` author used the following functions to create positional encoding. \n",
    "- On odd time steps a cosine function is used\n",
    "- In even time steps a sine function is used.\n",
    "\n",
    "<div align=\"center\">\n",
    "  <img src=\"https://miro.medium.com/v2/resize:fit:996/1*pDZr1I5WQkbw23v5lnEsDg.png\" alt=\"Positional Encoding\" width=\"300\">\n",
    "</div>\n",
    "\n",
    "**`pos ->`** Position of a word in the sequence (e.g., first word → `pos=0`, second word → `pos=1`, etc)\n",
    "\n",
    "**`i ->`** Index of the embedding dimension (0 to `embed_dim - 1`)\n",
    "\n",
    "**`d_model ->`** Refers to the embedding dimension `embed_dim`\n",
    "\n",
    "\n",
    "\n",
    "Positinal embedding will generate a matrix of similar to embedding matrix. It will create a matrix of dimension **sequence length x embedding dimension**. For each token(word) in sequence, we will find the embedding vector which is of dimension **1 x 512** and it is added with the correspondng positional vector which is of dimension **1 x 512** to get **1 x 512** dim out for each word/token.\n",
    "\n",
    "Example: if we have batch size of `32` and seq length of `10` and let embedding dimension be `512`. Then we will have embedding vector of dimension `32 x 10 x 512`. Similarly we will have positional encoding vector of dimension `32 x 10 x 512`. Then we add both.\n",
    "\n",
    "\n"
   ]
  },
  {
   "cell_type": "markdown",
   "id": "7c78e874-9c31-4c81-812c-1693196e06ab",
   "metadata": {},
   "source": [
    "<div align=\"center\">\n",
    "  <img src=\"https://miro.medium.com/max/906/1*B-VR6R5vJl3Y7jbMNf5Fpw.png\" alt=\"Positional Encoding\" width=\"300\">\n",
    "</div>"
   ]
  },
  {
   "cell_type": "code",
   "execution_count": 8,
   "id": "d69e0da2-e0b4-4d09-8921-375fd51d0c08",
   "metadata": {},
   "outputs": [],
   "source": [
    "import torch\n",
    "import torch.nn as nn\n",
    "\n",
    "max_sequence_length = 3\n",
    "d_model = 6"
   ]
  },
  {
   "cell_type": "code",
   "execution_count": 9,
   "id": "38c78ca4-1e81-4abd-a6c6-e106b2223ac2",
   "metadata": {},
   "outputs": [
    {
     "data": {
      "text/plain": [
       "torch.Size([3, 6])"
      ]
     },
     "execution_count": 9,
     "metadata": {},
     "output_type": "execute_result"
    }
   ],
   "source": [
    "pe = torch.zeros(max_sequence_length, d_model)\n",
    "pe.shape"
   ]
  },
  {
   "cell_type": "code",
   "execution_count": 10,
   "id": "eb582759-026d-4ece-b60f-9f516d3f75c5",
   "metadata": {},
   "outputs": [
    {
     "data": {
      "text/plain": [
       "tensor([[0., 0., 0., 0., 0., 0.],\n",
       "        [0., 0., 0., 0., 0., 0.],\n",
       "        [0., 0., 0., 0., 0., 0.]])"
      ]
     },
     "execution_count": 10,
     "metadata": {},
     "output_type": "execute_result"
    }
   ],
   "source": [
    "pe"
   ]
  },
  {
   "cell_type": "raw",
   "id": "32c323aa-4c3f-44fd-87c9-73a24e5f0a0b",
   "metadata": {},
   "source": [
    "tensor([[0., 0., 0., 0., 0.],  # Position 0  \n",
    "        [0., 0., 0., 0., 0.],  # Position 1  \n",
    "        [0., 0., 0., 0., 0.]]) # Position 2"
   ]
  },
  {
   "cell_type": "code",
   "execution_count": 11,
   "id": "2a37c8d7-d3e1-4323-bdee-47223180d5d3",
   "metadata": {},
   "outputs": [
    {
     "name": "stdout",
     "output_type": "stream",
     "text": [
      "torch.Size([3, 1])\n"
     ]
    },
    {
     "data": {
      "text/plain": [
       "tensor([[0.],\n",
       "        [1.],\n",
       "        [2.]])"
      ]
     },
     "execution_count": 11,
     "metadata": {},
     "output_type": "execute_result"
    }
   ],
   "source": [
    "position = torch.arange(0, max_sequence_length, dtype=torch.float).unsqueeze(1)\n",
    "print(position.shape)\n",
    "position"
   ]
  },
  {
   "cell_type": "raw",
   "id": "c3b4c501-72ef-4c37-88e1-9af5d27a0827",
   "metadata": {},
   "source": [
    "tensor([[0.],  # Position 0\n",
    "        [1.],  # Position 1\n",
    "        [5.]]) # Position 2"
   ]
  },
  {
   "cell_type": "code",
   "execution_count": 12,
   "id": "96fd6be1-8521-4c30-8c67-8cdf6c3b1036",
   "metadata": {},
   "outputs": [
    {
     "data": {
      "text/plain": [
       "tensor([0., 2., 4.])"
      ]
     },
     "execution_count": 12,
     "metadata": {},
     "output_type": "execute_result"
    }
   ],
   "source": [
    "even_i = torch.arange(0, d_model, 2).float()\n",
    "even_i"
   ]
  },
  {
   "cell_type": "code",
   "execution_count": 13,
   "id": "4e133d86-564b-4db5-bfb7-4525712548c1",
   "metadata": {},
   "outputs": [
    {
     "name": "stdout",
     "output_type": "stream",
     "text": [
      "torch.Size([3])\n"
     ]
    },
    {
     "data": {
      "text/plain": [
       "tensor([  1.0000,  21.5443, 464.1590])"
      ]
     },
     "execution_count": 13,
     "metadata": {},
     "output_type": "execute_result"
    }
   ],
   "source": [
    "div_term = torch.pow(10000, even_i / d_model)\n",
    "print(div_term.shape)\n",
    "div_term"
   ]
  },
  {
   "cell_type": "code",
   "execution_count": 14,
   "id": "7ee9e692-134f-4645-a849-86a123cab118",
   "metadata": {},
   "outputs": [
    {
     "data": {
      "text/plain": [
       "tensor([[0.0000, 0.0000, 0.0000],\n",
       "        [0.8415, 0.0464, 0.0022],\n",
       "        [0.9093, 0.0927, 0.0043]])"
      ]
     },
     "execution_count": 14,
     "metadata": {},
     "output_type": "execute_result"
    }
   ],
   "source": [
    "torch.sin(position / div_term)"
   ]
  },
  {
   "cell_type": "markdown",
   "id": "fb66d907-e182-4689-a597-81d7da2e5f1d",
   "metadata": {},
   "source": [
    "Here, we obtained the positional encoding for words at even indices.\n",
    "\n",
    "Replacing these in the pe"
   ]
  },
  {
   "cell_type": "code",
   "execution_count": 15,
   "id": "ac313340-8e85-4353-956c-bd2de6c45192",
   "metadata": {},
   "outputs": [
    {
     "data": {
      "text/plain": [
       "tensor([[0.0000, 0.0000, 0.0000, 0.0000, 0.0000, 0.0000],\n",
       "        [0.8415, 0.0000, 0.0464, 0.0000, 0.0022, 0.0000],\n",
       "        [0.9093, 0.0000, 0.0927, 0.0000, 0.0043, 0.0000]])"
      ]
     },
     "execution_count": 15,
     "metadata": {},
     "output_type": "execute_result"
    }
   ],
   "source": [
    "pe[:, 0::2] = torch.sin(position / div_term)\n",
    "pe"
   ]
  },
  {
   "cell_type": "markdown",
   "id": "9f149404-bc79-4f2d-8249-38719226790c",
   "metadata": {},
   "source": [
    "Notice, here odd indices are 0 since we haven't handled them yet."
   ]
  },
  {
   "cell_type": "code",
   "execution_count": 16,
   "id": "a9502544-10ca-4e0b-ba6f-978ed5a15708",
   "metadata": {},
   "outputs": [
    {
     "data": {
      "text/plain": [
       "tensor([[ 1.0000,  1.0000,  1.0000],\n",
       "        [ 0.5403,  0.9989,  1.0000],\n",
       "        [-0.4161,  0.9957,  1.0000]])"
      ]
     },
     "execution_count": 16,
     "metadata": {},
     "output_type": "execute_result"
    }
   ],
   "source": [
    "torch.cos(position / div_term)"
   ]
  },
  {
   "cell_type": "markdown",
   "id": "c467fb4a-2bcd-4ba4-b8c9-65d3e90ca057",
   "metadata": {},
   "source": [
    "Here, we obtained the positional encoding for words at odd indices.\n",
    "\n",
    "Replacing these in the pe"
   ]
  },
  {
   "cell_type": "code",
   "execution_count": 17,
   "id": "ae59b793-a580-4d49-a901-31f5545cdcf4",
   "metadata": {},
   "outputs": [],
   "source": [
    "pe[:, 1::2] = torch.cos(position / div_term)"
   ]
  },
  {
   "cell_type": "code",
   "execution_count": 18,
   "id": "7a5c4ebc-b5fd-41f1-afd5-8e6cb4664019",
   "metadata": {},
   "outputs": [
    {
     "data": {
      "text/plain": [
       "tensor([[ 0.0000,  1.0000,  0.0000,  1.0000,  0.0000,  1.0000],\n",
       "        [ 0.8415,  0.5403,  0.0464,  0.9989,  0.0022,  1.0000],\n",
       "        [ 0.9093, -0.4161,  0.0927,  0.9957,  0.0043,  1.0000]])"
      ]
     },
     "execution_count": 18,
     "metadata": {},
     "output_type": "execute_result"
    }
   ],
   "source": [
    "pe"
   ]
  },
  {
   "cell_type": "code",
   "execution_count": 19,
   "id": "6dce4ec5-ce48-4134-b1c7-08087d4b84d7",
   "metadata": {},
   "outputs": [
    {
     "data": {
      "text/plain": [
       "torch.Size([3, 6])"
      ]
     },
     "execution_count": 19,
     "metadata": {},
     "output_type": "execute_result"
    }
   ],
   "source": [
    "pe.shape"
   ]
  },
  {
   "cell_type": "markdown",
   "id": "cb617972-b4a1-4178-92db-ddf26108e68b",
   "metadata": {},
   "source": [
    "### Class"
   ]
  },
  {
   "cell_type": "code",
   "execution_count": 20,
   "id": "5ed2d9e6-4393-4591-add0-7e656cfa2998",
   "metadata": {},
   "outputs": [],
   "source": [
    "class PositionalEncoding(nn.Module):\n",
    "    def __init__(self, embed_dim, max_seq_len):\n",
    "        super().__init__()\n",
    "        # Create a matrix of shape (max_seq_len, embed_dim)\n",
    "        pe = torch.zeros(max_seq_len, embed_dim)\n",
    "        # Create a vector of shape (max_seq_len, 1)\n",
    "        position = torch.arange(0, max_seq_len, dtype=torch.float).unsqueeze(1)  #(max_seq_len, 1)\n",
    "        # Calculate the division term: 10000^(2i/embed_dim)\n",
    "        div_term = torch.pow(10000, torch.arange(0, embed_dim, 2).float() / embed_dim)  #(embed_dim/2)\n",
    "\n",
    "        # Apply sine to even indices and cosine to odd indices\n",
    "        pe[:, 0::2] = torch.sin(position / div_term) #(max_seq_len, embed_dim/2)\n",
    "        pe[:, 1::2] = torch.cos(position / div_term) #(max_seq_len, embed_dim/2)\n",
    "\n",
    "        # Add a batch dimension\n",
    "        pe = pe.unsqueeze(0) #(1, max_seq_len, embed_dim)\n",
    "\n",
    "        # Register buffer makes the parameter persistent but not a model parameter\n",
    "        # that is updated during training\n",
    "        self.register_buffer('pe', pe)\n",
    "\n",
    "\n",
    "    def forward(self, x):\n",
    "        # Add positional encoding to the input embeddings\n",
    "        x = x + self.pe[:, :x.shape[1], :] # `pe` is not trainable but moves with the model\n",
    "        return x "
   ]
  },
  {
   "cell_type": "code",
   "execution_count": 21,
   "id": "23afeb13-28d8-4bd5-9a71-5004768b3a76",
   "metadata": {},
   "outputs": [],
   "source": [
    "d_model = 512  # Embedding dimension\n",
    "max_seq_length = 1000\n",
    "\n",
    "pos_encoder = PositionalEncoding(d_model, max_seq_length)"
   ]
  },
  {
   "cell_type": "code",
   "execution_count": 24,
   "id": "f0218ce9-ca24-41e9-a8cb-ff12be6e3ef2",
   "metadata": {},
   "outputs": [],
   "source": [
    "# Create a sample input tensor: (batch_size=2, seq_length=10, d_model=512)\n",
    "x = torch.randn(2, 10, d_model)\n",
    "# Apply positional encoding\n",
    "encoded = pos_encoder(x)"
   ]
  },
  {
   "cell_type": "code",
   "execution_count": 25,
   "id": "5a1cbbfa-92a5-4861-bff5-62f21a51d1c8",
   "metadata": {},
   "outputs": [
    {
     "name": "stdout",
     "output_type": "stream",
     "text": [
      "Input shape: torch.Size([2, 10, 512])\n",
      "Output shape: torch.Size([2, 10, 512])\n"
     ]
    }
   ],
   "source": [
    "print(f\"Input shape: {x.shape}\")\n",
    "print(f\"Output shape: {encoded.shape}\")"
   ]
  }
 ],
 "metadata": {
  "kernelspec": {
   "display_name": "Python 3 (ipykernel)",
   "language": "python",
   "name": "python3"
  },
  "language_info": {
   "codemirror_mode": {
    "name": "ipython",
    "version": 3
   },
   "file_extension": ".py",
   "mimetype": "text/x-python",
   "name": "python",
   "nbconvert_exporter": "python",
   "pygments_lexer": "ipython3",
   "version": "3.10.11"
  }
 },
 "nbformat": 4,
 "nbformat_minor": 5
}
