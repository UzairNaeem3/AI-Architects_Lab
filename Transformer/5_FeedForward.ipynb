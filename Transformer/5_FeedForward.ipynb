{
 "cells": [
  {
   "cell_type": "code",
   "execution_count": 5,
   "id": "5663c8a5-aef4-4e13-a2c8-22b87fe2ce6b",
   "metadata": {},
   "outputs": [],
   "source": [
    "import torch\n",
    "import torch.nn as nn\n",
    "import torch.nn.functional as F"
   ]
  },
  {
   "cell_type": "code",
   "execution_count": 6,
   "id": "c2d9893d-ef4e-4dac-baeb-841443531e63",
   "metadata": {},
   "outputs": [],
   "source": [
    "class FeedForward(nn.Module):\n",
    "    def __init__(self, embed_dim, ff_hidden_dim, dropout=0.1):\n",
    "        \"\"\"\n",
    "        Position-wise feed-forward network.\n",
    "        \n",
    "        Args:\n",
    "            embed_dim: Input and output dimension\n",
    "            ff_hidden_dim: Hidden layer dimension\n",
    "            dropout: Dropout probability\n",
    "        \"\"\"\n",
    "        super().__init__()\n",
    "        self.linear1 = nn.Linear(embed_dim, ff_hidden_dim)\n",
    "        self.linear2 = nn.Linear(ff_hidden_dim, embed_dim)\n",
    "        self.dropout = nn.Dropout(dropout)\n",
    "        \n",
    "    def forward(self, x):\n",
    "        \"\"\"\n",
    "        Forward pass of feed-forward network.\n",
    "        \n",
    "        Args:\n",
    "            x: Input tensor [batch_size, seq_len, embed_dim]\n",
    "            \n",
    "        Returns:\n",
    "            output: Output tensor [batch_size, seq_len, embed_dim]\n",
    "        \"\"\"\n",
    "        return self.linear2(self.dropout(F.relu(self.linear1(x))))"
   ]
  },
  {
   "cell_type": "code",
   "execution_count": 7,
   "id": "e9ba86ea-9d1f-4f71-ab7d-9c21cf78939e",
   "metadata": {},
   "outputs": [],
   "source": [
    "# Example\n",
    "batch_size = 4\n",
    "seq_len = 10\n",
    "embed_dim = 512\n",
    "ff_hidden_dim = 2048"
   ]
  },
  {
   "cell_type": "code",
   "execution_count": 8,
   "id": "7d15c6df-e51f-466e-a32e-d4db8a3dd508",
   "metadata": {},
   "outputs": [
    {
     "name": "stdout",
     "output_type": "stream",
     "text": [
      "Input shape: torch.Size([4, 10, 512])\n",
      "Output shape: torch.Size([4, 10, 512])\n"
     ]
    }
   ],
   "source": [
    "# random input tensor with shape [batch_size, seq_len, embed_dim]\n",
    "x = torch.randn(batch_size, seq_len, embed_dim)\n",
    "\n",
    "feed_forward = FeedForward(embed_dim=embed_dim, ff_hidden_dim=ff_hidden_dim, dropout=0.1)\n",
    "output = feed_forward(x)\n",
    "print(f\"Input shape: {x.shape}\")\n",
    "print(f\"Output shape: {output.shape}\")"
   ]
  },
  {
   "cell_type": "code",
   "execution_count": null,
   "id": "c2670501-9f47-45da-ab33-83f50b10bb9a",
   "metadata": {},
   "outputs": [],
   "source": []
  }
 ],
 "metadata": {
  "kernelspec": {
   "display_name": "Python 3 (ipykernel)",
   "language": "python",
   "name": "python3"
  },
  "language_info": {
   "codemirror_mode": {
    "name": "ipython",
    "version": 3
   },
   "file_extension": ".py",
   "mimetype": "text/x-python",
   "name": "python",
   "nbconvert_exporter": "python",
   "pygments_lexer": "ipython3",
   "version": "3.10.11"
  }
 },
 "nbformat": 4,
 "nbformat_minor": 5
}
