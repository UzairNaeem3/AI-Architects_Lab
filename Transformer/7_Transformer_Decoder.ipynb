{
 "cells": [
  {
   "cell_type": "markdown",
   "id": "d7936b0e-281e-4e26-bd42-0a531682cc41",
   "metadata": {},
   "source": [
    "### Transformer Decoder"
   ]
  },
  {
   "cell_type": "markdown",
   "id": "7f713180-fabf-4497-a263-3db308899337",
   "metadata": {},
   "source": [
    "<div align=\"center\">\n",
    "  <img src=\"https://res.cloudinary.com/edlitera/image/upload/c_fill,f_auto/v1680629118/blog/gz5ccspg3yvq4eo6xhrr\" alt=\"Transformer Decoder\" width=\"300\">\n",
    "</div>"
   ]
  },
  {
   "cell_type": "code",
   "execution_count": 1,
   "id": "a8128f21-e708-4935-b8c2-252d4b115b84",
   "metadata": {},
   "outputs": [],
   "source": [
    "import torch\n",
    "import torch.nn as nn"
   ]
  },
  {
   "cell_type": "code",
   "execution_count": null,
   "id": "71a9329f-b3fc-4242-8557-c42a92f16844",
   "metadata": {},
   "outputs": [],
   "source": [
    "# Importing classes from the respective notebooks\n",
    "%run 4_Multihead_Attention.ipynb\n",
    "%run 5_FeedForward.ipynb"
   ]
  },
  {
   "cell_type": "markdown",
   "id": "2016b7a5-efb0-4a75-9274-4a6424061be5",
   "metadata": {},
   "source": [
    "**Attention**:\n",
    "- `Self-Attention Layer`: Allows each position in the decoder to attend to all previous positions (using causal masking)\n",
    "- `Cross-Attention Layer`: Allows the decoder to attend to the encoder's output"
   ]
  },
  {
   "cell_type": "code",
   "execution_count": 3,
   "id": "429e3fab-921a-4c28-b924-2e65b260243f",
   "metadata": {
    "editable": true,
    "slideshow": {
     "slide_type": ""
    },
    "tags": []
   },
   "outputs": [],
   "source": [
    "class DecoderLayer(nn.Module):\n",
    "    def __init__(self, embed_dim, num_heads, ff_hidden_dim, dropout=0.1):\n",
    "        \"\"\"\n",
    "        Single transformer decoder layer with masked self-attention, \n",
    "        cross-attention, and feed-forward network.\n",
    "        \n",
    "        Args:\n",
    "            embed_dim: Dimension of embeddings\n",
    "            num_heads: Number of attention heads\n",
    "            ff_hidden_dim: Hidden dimension of feed-forward network\n",
    "            dropout: Dropout probability\n",
    "        \"\"\"\n",
    "        super().__init__()\n",
    "        self.self_attn = MultiHeadAttention(embed_dim, num_heads, dropout)\n",
    "        self.norm1 = nn.LayerNorm(embed_dim)\n",
    "        \n",
    "        self.cross_attn = MultiHeadAttention(embed_dim, num_heads, dropout)\n",
    "        self.norm2 = nn.LayerNorm(embed_dim)\n",
    "        \n",
    "        self.ff = FeedForward(embed_dim, ff_hidden_dim, dropout)\n",
    "        self.norm3 = nn.LayerNorm(embed_dim)\n",
    "        \n",
    "        self.dropout = nn.Dropout(dropout)\n",
    "\n",
    "    def forward(self, x, enc_output, self_attn_mask=None, cross_attn_mask=None):\n",
    "        \"\"\"\n",
    "        Forward pass of decoder layer.\n",
    "        \n",
    "        Args:\n",
    "            x: Input tensor [batch_size, seq_len, embed_dim]\n",
    "            enc_output: Encoder output [batch_size, enc_seq_len, embed_dim]\n",
    "            self_attn_mask: Mask for self-attention (usually causal mask)\n",
    "            cross_attn_mask: Mask for cross-attention\n",
    "            \n",
    "        Returns:\n",
    "            x: Output tensor [batch_size, seq_len, embed_dim]\n",
    "        \"\"\"\n",
    "        # Self-attention block with residual connection and layer normalization\n",
    "        residual = x\n",
    "        x = self.norm1(x)\n",
    "        x = residual + self.dropout(self.self_attn(x, x, x, self_attn_mask))\n",
    "        \n",
    "        # Cross-attention block with residual connection and layer normalization\n",
    "        residual = x\n",
    "        x = self.norm2(x)\n",
    "        x = residual + self.dropout(self.cross_attn(x, enc_output, enc_output, cross_attn_mask))\n",
    "        \n",
    "        # Feed-forward block with residual connection and layer normalization\n",
    "        residual = x\n",
    "        x = self.norm3(x)\n",
    "        x = residual + self.dropout(self.ff(x))\n",
    "        \n",
    "        return x"
   ]
  },
  {
   "cell_type": "code",
   "execution_count": 4,
   "id": "dd9fa86e-b892-429a-89eb-d081207aa150",
   "metadata": {},
   "outputs": [],
   "source": [
    "# Example\n",
    "\n",
    "embed_dim = 64\n",
    "num_heads = 8\n",
    "ff_hidden_dim = 256\n",
    "dropout = 0.1\n",
    "\n",
    "decoder_layer = DecoderLayer(embed_dim, num_heads, ff_hidden_dim, dropout)"
   ]
  },
  {
   "cell_type": "code",
   "execution_count": 5,
   "id": "379cd96c-85b0-43b1-8b51-9a068b31d0af",
   "metadata": {},
   "outputs": [],
   "source": [
    "# input tensors for the forward pass\n",
    "batch_size = 2\n",
    "seq_len = 10\n",
    "enc_seq_len = 12\n",
    "\n",
    "# Random input tensors for the example\n",
    "x = torch.randn(batch_size, seq_len, embed_dim)  # Decoder input (e.g., previous tokens embeddings)\n",
    "enc_output = torch.randn(batch_size, enc_seq_len, embed_dim)  # Encoder output (e.g., encoder's final hidden states)"
   ]
  },
  {
   "cell_type": "code",
   "execution_count": 6,
   "id": "19aaf137-9ba1-4715-b86d-f0765a524ba4",
   "metadata": {
    "editable": true,
    "slideshow": {
     "slide_type": ""
    },
    "tags": []
   },
   "outputs": [
    {
     "name": "stdout",
     "output_type": "stream",
     "text": [
      "Output shape: torch.Size([2, 10, 64])\n"
     ]
    }
   ],
   "source": [
    "# Masks (optional, set to None for simplicity in this example)\n",
    "self_attn_mask = None  # Self-attention mask (usually causal)\n",
    "cross_attn_mask = None  # Cross-attention mask\n",
    "\n",
    "# Forward pass through the decoder layer\n",
    "output = decoder_layer(x, enc_output, self_attn_mask, cross_attn_mask)\n",
    "\n",
    "print(\"Output shape:\", output.shape)  # Should be [batch_size, seq_len, embed_dim]"
   ]
  },
  {
   "cell_type": "code",
   "execution_count": null,
   "id": "f8bfd786-ccda-436a-803c-06d46cd890e2",
   "metadata": {},
   "outputs": [],
   "source": []
  }
 ],
 "metadata": {
  "kernelspec": {
   "display_name": "Python 3 (ipykernel)",
   "language": "python",
   "name": "python3"
  },
  "language_info": {
   "codemirror_mode": {
    "name": "ipython",
    "version": 3
   },
   "file_extension": ".py",
   "mimetype": "text/x-python",
   "name": "python",
   "nbconvert_exporter": "python",
   "pygments_lexer": "ipython3",
   "version": "3.10.11"
  }
 },
 "nbformat": 4,
 "nbformat_minor": 5
}
